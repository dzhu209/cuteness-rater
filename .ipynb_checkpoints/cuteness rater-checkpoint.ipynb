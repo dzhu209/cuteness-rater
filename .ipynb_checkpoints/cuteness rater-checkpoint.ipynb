{
 "cells": [
  {
   "cell_type": "code",
   "execution_count": 4,
   "metadata": {},
   "outputs": [],
   "source": [
    "import pandas as pd\n",
    "import matplotlib.pyplot as plt"
   ]
  },
  {
   "cell_type": "code",
   "execution_count": 3,
   "metadata": {},
   "outputs": [
    {
     "data": {
      "text/html": [
       "<div>\n",
       "<style scoped>\n",
       "    .dataframe tbody tr th:only-of-type {\n",
       "        vertical-align: middle;\n",
       "    }\n",
       "\n",
       "    .dataframe tbody tr th {\n",
       "        vertical-align: top;\n",
       "    }\n",
       "\n",
       "    .dataframe thead th {\n",
       "        text-align: right;\n",
       "    }\n",
       "</style>\n",
       "<table border=\"1\" class=\"dataframe\">\n",
       "  <thead>\n",
       "    <tr style=\"text-align: right;\">\n",
       "      <th></th>\n",
       "      <th>Id</th>\n",
       "      <th>Pawpularity</th>\n",
       "    </tr>\n",
       "  </thead>\n",
       "  <tbody>\n",
       "    <tr>\n",
       "      <th>0</th>\n",
       "      <td>0007de18844b0dbbb5e1f607da0606e0</td>\n",
       "      <td>63</td>\n",
       "    </tr>\n",
       "    <tr>\n",
       "      <th>1</th>\n",
       "      <td>0009c66b9439883ba2750fb825e1d7db</td>\n",
       "      <td>42</td>\n",
       "    </tr>\n",
       "    <tr>\n",
       "      <th>2</th>\n",
       "      <td>0013fd999caf9a3efe1352ca1b0d937e</td>\n",
       "      <td>28</td>\n",
       "    </tr>\n",
       "    <tr>\n",
       "      <th>3</th>\n",
       "      <td>0018df346ac9c1d8413cfcc888ca8246</td>\n",
       "      <td>15</td>\n",
       "    </tr>\n",
       "    <tr>\n",
       "      <th>4</th>\n",
       "      <td>001dc955e10590d3ca4673f034feeef2</td>\n",
       "      <td>72</td>\n",
       "    </tr>\n",
       "    <tr>\n",
       "      <th>...</th>\n",
       "      <td>...</td>\n",
       "      <td>...</td>\n",
       "    </tr>\n",
       "    <tr>\n",
       "      <th>9907</th>\n",
       "      <td>ffbfa0383c34dc513c95560d6e1fdb57</td>\n",
       "      <td>15</td>\n",
       "    </tr>\n",
       "    <tr>\n",
       "      <th>9908</th>\n",
       "      <td>ffcc8532d76436fc79e50eb2e5238e45</td>\n",
       "      <td>70</td>\n",
       "    </tr>\n",
       "    <tr>\n",
       "      <th>9909</th>\n",
       "      <td>ffdf2e8673a1da6fb80342fa3b119a20</td>\n",
       "      <td>20</td>\n",
       "    </tr>\n",
       "    <tr>\n",
       "      <th>9910</th>\n",
       "      <td>fff19e2ce11718548fa1c5d039a5192a</td>\n",
       "      <td>20</td>\n",
       "    </tr>\n",
       "    <tr>\n",
       "      <th>9911</th>\n",
       "      <td>fff8e47c766799c9e12f3cb3d66ad228</td>\n",
       "      <td>30</td>\n",
       "    </tr>\n",
       "  </tbody>\n",
       "</table>\n",
       "<p>9912 rows × 2 columns</p>\n",
       "</div>"
      ],
      "text/plain": [
       "                                    Id  Pawpularity\n",
       "0     0007de18844b0dbbb5e1f607da0606e0           63\n",
       "1     0009c66b9439883ba2750fb825e1d7db           42\n",
       "2     0013fd999caf9a3efe1352ca1b0d937e           28\n",
       "3     0018df346ac9c1d8413cfcc888ca8246           15\n",
       "4     001dc955e10590d3ca4673f034feeef2           72\n",
       "...                                ...          ...\n",
       "9907  ffbfa0383c34dc513c95560d6e1fdb57           15\n",
       "9908  ffcc8532d76436fc79e50eb2e5238e45           70\n",
       "9909  ffdf2e8673a1da6fb80342fa3b119a20           20\n",
       "9910  fff19e2ce11718548fa1c5d039a5192a           20\n",
       "9911  fff8e47c766799c9e12f3cb3d66ad228           30\n",
       "\n",
       "[9912 rows x 2 columns]"
      ]
     },
     "execution_count": 3,
     "metadata": {},
     "output_type": "execute_result"
    }
   ],
   "source": [
    "df = pd.read_csv(\"labels.csv\")\n",
    "df"
   ]
  },
  {
   "cell_type": "markdown",
   "metadata": {},
   "source": [
    "## Treat Pawpularity as a continuous variable in the prediction model"
   ]
  },
  {
   "cell_type": "code",
   "execution_count": 5,
   "metadata": {},
   "outputs": [
    {
     "data": {
      "image/png": "[encoded data removed]",
      "text/plain": [
       "<Figure size 432x288 with 1 Axes>"
      ]
     },
     "metadata": {
      "needs_background": "light"
     },
     "output_type": "display_data"
    }
   ],
   "source": [
    "# Plot the distribution of the \"Pawpularity\" column\n",
    "plt.hist(df['Pawpularity'], bins=30, edgecolor='black')\n",
    "plt.xlabel('Pawpularity')\n",
    "plt.ylabel('Frequency')\n",
    "plt.title('Distribution of Pawpularity')\n",
    "plt.show()"
   ]
  },
  {
   "cell_type": "code",
   "execution_count": null,
   "metadata": {},
   "outputs": [],
   "source": []
  },
  {
   "cell_type": "code",
   "execution_count": 8,
   "metadata": {},
   "outputs": [],
   "source": [
    "import os\n",
    "import numpy as np\n",
    "import pandas as pd\n",
    "from tensorflow.keras.preprocessing.image import load_img, img_to_array\n",
    "from sklearn.model_selection import train_test_split\n",
    "from sklearn.preprocessing import MinMaxScaler\n",
    "\n",
    "# Define the image directory\n",
    "image_dir = \"images\"\n",
    "\n",
    "# Initialize lists to store images and pawpularity values\n",
    "images = []\n",
    "pawpularity = []\n",
    "\n",
    "# Define the desired image size\n",
    "image_size = (64, 64)\n",
    "\n",
    "# Iterate over the IDs in the DataFrame\n",
    "for id in df[\"Id\"]:\n",
    "    # Construct the image filename by appending the \".jpg\" extension\n",
    "    filename = id + \".jpg\"\n",
    "\n",
    "    # Construct the path to the image file\n",
    "    image_path = os.path.join(image_dir, filename)\n",
    "\n",
    "    # Load and preprocess the image\n",
    "    image = load_img(image_path, target_size=image_size)\n",
    "    image = img_to_array(image) / 255.0\n",
    "\n",
    "    # Add the preprocessed image to the images list\n",
    "    images.append(image)\n",
    "\n",
    "    # Extract the corresponding pawpularity value from the DataFrame\n",
    "    pawpularity_value = df.loc[df[\"Id\"] == id, \"Pawpularity\"].values[0]\n",
    "    pawpularity.append(pawpularity_value)\n",
    "\n",
    "# Convert the images and pawpularity lists to NumPy arrays\n",
    "images = np.array(images)\n",
    "pawpularity = np.array(pawpularity)\n",
    "\n",
    "# Reshape the pawpularity array to match the shape of the images array\n",
    "pawpularity = pawpularity.reshape(-1, 1)\n",
    "\n",
    "# Normalize the pawpularity values using Min-Max scaling\n",
    "scaler = MinMaxScaler()\n",
    "pawpularity = scaler.fit_transform(pawpularity)"
   ]
  },
  {
   "cell_type": "code",
   "execution_count": 9,
   "metadata": {},
   "outputs": [
    {
     "name": "stdout",
     "output_type": "stream",
     "text": [
      "x_train shape: (7929, 64, 64, 3)\n",
      "y_train shape: (7929, 1)\n",
      "x_test shape: (1983, 64, 64, 3)\n",
      "y_test shape: (1983, 1)\n"
     ]
    }
   ],
   "source": [
    "# Split the data into training and testing sets\n",
    "x_train, x_test, y_train, y_test = train_test_split(images, pawpularity, test_size=0.2, random_state=42)\n",
    "\n",
    "# Print the shapes of x_train, x_test, y_train, and y_test\n",
    "print(\"x_train shape:\", x_train.shape)\n",
    "print(\"y_train shape:\", y_train.shape)\n",
    "print(\"x_test shape:\", x_test.shape)\n",
    "print(\"y_test shape:\", y_test.shape)"
   ]
  },
  {
   "cell_type": "code",
   "execution_count": 10,
   "metadata": {},
   "outputs": [
    {
     "name": "stdout",
     "output_type": "stream",
     "text": [
      "Epoch 1/10\n",
      "248/248 [==============================] - 14s 56ms/step - loss: 0.5055 - val_loss: 0.0461\n",
      "Epoch 2/10\n",
      "248/248 [==============================] - 13s 53ms/step - loss: 0.0434 - val_loss: 0.0474\n",
      "Epoch 3/10\n",
      "248/248 [==============================] - 13s 54ms/step - loss: 0.0393 - val_loss: 0.0474\n",
      "Epoch 4/10\n",
      "248/248 [==============================] - 14s 55ms/step - loss: 0.0343 - val_loss: 0.0496\n",
      "Epoch 5/10\n",
      "248/248 [==============================] - 14s 54ms/step - loss: 0.0280 - val_loss: 0.0524\n",
      "Epoch 6/10\n",
      "248/248 [==============================] - 14s 56ms/step - loss: 0.0220 - val_loss: 0.0536\n",
      "Epoch 7/10\n",
      "248/248 [==============================] - 14s 55ms/step - loss: 0.0167 - val_loss: 0.0562\n",
      "Epoch 8/10\n",
      "248/248 [==============================] - 15s 62ms/step - loss: 0.0123 - val_loss: 0.0560\n",
      "Epoch 9/10\n",
      "248/248 [==============================] - 16s 63ms/step - loss: 0.0092 - val_loss: 0.0577\n",
      "Epoch 10/10\n",
      "248/248 [==============================] - 15s 59ms/step - loss: 0.0069 - val_loss: 0.0602\n"
     ]
    }
   ],
   "source": []
  },
  {
   "cell_type": "markdown",
   "metadata": {},
   "source": [
    "## Tuning Hyperparameters"
   ]
  },
  {
   "cell_type": "code",
   "execution_count": null,
   "metadata": {},
   "outputs": [],
   "source": [
    "import tensorflow as tf\n",
    "from tensorflow.keras import layers\n",
    "from sklearn.metrics import mean_squared_error\n",
    "\n",
    "# Define hyperparameters to experiment with\n",
    "learning_rates = [0.001, 0.01, 0.1]\n",
    "num_filters = [32, 64, 128]\n",
    "filter_sizes = [(3, 3), (5, 5), (7, 7)]\n",
    "num_dense_layers = [1, 2, 3]\n",
    "\n",
    "# Initialize variables to store best hyperparameters and performance\n",
    "best_learning_rate = None\n",
    "best_num_filters = None\n",
    "best_filter_size = None\n",
    "best_num_dense_layers = None\n",
    "best_mse = float(\"inf\")\n",
    "\n",
    "# Iterate over hyperparameters\n",
    "for lr in learning_rates:\n",
    "    for filters in num_filters:\n",
    "        for size in filter_sizes:\n",
    "            for dense_layers in num_dense_layers:\n",
    "                # Create the CNN model\n",
    "                model = tf.keras.Sequential()\n",
    "                model.add(layers.Conv2D(filters, size, activation=\"relu\", input_shape=(64, 64, 3)))\n",
    "                model.add(layers.MaxPooling2D((2, 2)))\n",
    "                for _ in range(dense_layers):\n",
    "                    model.add(layers.Dense(64, activation=\"relu\"))\n",
    "                model.add(layers.Flatten())\n",
    "                model.add(layers.Dense(1, activation=\"linear\"))\n",
    "                \n",
    "                # Compile the model\n",
    "                optimizer = tf.keras.optimizers.Adam(learning_rate=lr)\n",
    "                model.compile(optimizer=optimizer, loss=\"mean_squared_error\")\n",
    "                \n",
    "                # Train the model\n",
    "                model.fit(x_train, y_train, batch_size=32, epochs=10, verbose=0)\n",
    "                \n",
    "                # Evaluate the model on the validation set\n",
    "                y_pred = model.predict(x_test)\n",
    "                mse = mean_squared_error(y_test, y_pred)\n",
    "                \n",
    "                # Check if this configuration is the best so far\n",
    "                if mse < best_mse:\n",
    "                    best_learning_rate = lr\n",
    "                    best_num_filters = filters\n",
    "                    best_filter_size = size\n",
    "                    best_num_dense_layers = dense_layers\n",
    "                    best_mse = mse\n",
    "\n",
    "# Print the best hyperparameters and performance\n",
    "print(\"Best learning rate:\", best_learning_rate)\n",
    "print(\"Best number of filters:\", best_num_filters)\n",
    "print(\"Best filter size:\", best_filter_size)\n",
    "print(\"Best number of dense layers:\", best_num_dense_layers)\n",
    "print(\"Best MSE:\", best_mse)"
   ]
  },
  {
   "cell_type": "markdown",
   "metadata": {},
   "source": [
    "## Then use the hyperparameters that give us best MSE to create the model"
   ]
  },
  {
   "cell_type": "code",
   "execution_count": null,
   "metadata": {},
   "outputs": [],
   "source": [
    "import tensorflow as tf\n",
    "from tensorflow.keras import layers\n",
    "\n",
    "# Create the CNN model\n",
    "def create_model():\n",
    "    model = tf.keras.Sequential()\n",
    "    model.add(layers.Conv2D(32, (3, 3), activation=\"relu\", input_shape=(64, 64, 3)))\n",
    "    model.add(layers.MaxPooling2D((2, 2)))\n",
    "    model.add(layers.Conv2D(64, (3, 3), activation=\"relu\"))\n",
    "    model.add(layers.Flatten())\n",
    "    model.add(layers.Dense(64, activation=\"relu\"))\n",
    "    model.add(layers.Dense(1, activation=\"linear\"))\n",
    "    return model\n",
    "\n",
    "# Define hyperparameters\n",
    "batch_size = 32\n",
    "epochs = 10\n",
    "learning_rate = 0.001\n",
    "\n",
    "# Create and compile the model\n",
    "model = create_model()\n",
    "optimizer = tf.keras.optimizers.Adam(learning_rate=learning_rate)\n",
    "model.compile(optimizer=optimizer, loss=\"mean_squared_error\")\n",
    "\n",
    "# Train the model\n",
    "history = model.fit(x_train, y_train, batch_size=batch_size, epochs=epochs, validation_data=(x_test, y_test))"
   ]
  },
  {
   "cell_type": "code",
   "execution_count": 12,
   "metadata": {},
   "outputs": [
    {
     "name": "stdout",
     "output_type": "stream",
     "text": [
      "62/62 [==============================] - 1s 11ms/step - loss: 0.0602\n"
     ]
    }
   ],
   "source": [
    "loss = model.evaluate(x_test, y_test)"
   ]
  },
  {
   "cell_type": "code",
   "execution_count": 11,
   "metadata": {},
   "outputs": [],
   "source": [
    "y_pred = model.predict(x_test)"
   ]
  },
  {
   "cell_type": "code",
   "execution_count": 15,
   "metadata": {},
   "outputs": [
    {
     "data": {
      "image/png": "[encoded data removed]",
      "text/plain": [
       "<Figure size 432x288 with 1 Axes>"
      ]
     },
     "metadata": {
      "needs_background": "light"
     },
     "output_type": "display_data"
    }
   ],
   "source": [
    "# Inverse transform the normalized predictions\n",
    "y_test_unnormalized = scaler.inverse_transform(y_test)\n",
    "# Plot the distribution of the y_test\n",
    "plt.hist(y_test_unnormalized, bins=30, edgecolor='black')\n",
    "plt.xlabel('y_test')\n",
    "plt.ylabel('Frequency')\n",
    "plt.title('Distribution of y_test')\n",
    "plt.show()"
   ]
  },
  {
   "cell_type": "code",
   "execution_count": 16,
   "metadata": {},
   "outputs": [
    {
     "data": {
      "image/png": "[encoded data removed]",
      "text/plain": [
       "<Figure size 432x288 with 1 Axes>"
      ]
     },
     "metadata": {
      "needs_background": "light"
     },
     "output_type": "display_data"
    }
   ],
   "source": [
    "# Inverse transform the normalized predictions\n",
    "y_pred_unnormalized = scaler.inverse_transform(y_pred)\n",
    "# Plot the distribution of the y_test\n",
    "plt.hist(y_pred_unnormalized, bins=30, edgecolor='black')\n",
    "plt.xlabel('y_pred')\n",
    "plt.ylabel('Frequency')\n",
    "plt.title('Distribution of y_pred')\n",
    "plt.show()"
   ]
  },
  {
   "cell_type": "code",
   "execution_count": 17,
   "metadata": {},
   "outputs": [],
   "source": [
    "import numpy as np\n",
    "\n",
    "# Define the category boundaries\n",
    "boundaries = [20, 40, 60, 80]\n",
    "\n",
    "# Categorize y_test and y_pred\n",
    "y_test_categories = np.digitize(y_test_unnormalized, boundaries)\n",
    "y_pred_categories = np.digitize(y_pred_unnormalized, boundaries)"
   ]
  },
  {
   "cell_type": "code",
   "execution_count": 18,
   "metadata": {},
   "outputs": [
    {
     "name": "stdout",
     "output_type": "stream",
     "text": [
      "Category 1: Accuracy = 0.5043\n",
      "Category 2: Accuracy = 0.5295\n",
      "Category 3: Accuracy = 0.8739\n",
      "Category 4: Accuracy = 0.9304\n",
      "Category 5: Accuracy = 1.0000\n"
     ]
    }
   ],
   "source": [
    "from sklearn.metrics import accuracy_score\n",
    "\n",
    "# Calculate accuracy for each category\n",
    "category_accuracy = []\n",
    "for category in range(1, 6):\n",
    "    y_test_category = (y_test_categories == category)\n",
    "    y_pred_category = (y_pred_categories == category)\n",
    "    accuracy = accuracy_score(y_test_category, y_pred_category)\n",
    "    category_accuracy.append(accuracy)\n",
    "\n",
    "# Print the accuracy for each category\n",
    "for category, accuracy in enumerate(category_accuracy, start=1):\n",
    "    print(f\"Category {category}: Accuracy = {accuracy:.4f}\")"
   ]
  },
  {
   "cell_type": "code",
   "execution_count": null,
   "metadata": {},
   "outputs": [],
   "source": [
    "from sklearn.metrics import precision_recall_fscore_support, classification_report\n",
    "\n",
    "# Calculate precision, recall, and F1-score for each category\n",
    "precision, recall, f1_score, _ = precision_recall_fscore_support(y_test_categories, y_pred_categories)\n",
    "\n",
    "# Print precision, recall, and F1-score for each category\n",
    "for category in range(1, 6):\n",
    "    print(f\"Category {category}:\")\n",
    "    print(f\"Precision: {precision[category-1]:.4f}\")\n",
    "    print(f\"Recall: {recall[category-1]:.4f}\")\n",
    "    print(f\"F1-Score: {f1_score[category-1]:.4f}\")\n",
    "    print()\n",
    "\n",
    "# Generate a classification report\n",
    "classification_rep = classification_report(y_test_categories, y_pred_categories)\n",
    "print(classification_rep)"
   ]
  },
  {
   "cell_type": "markdown",
   "metadata": {},
   "source": [
    "# Treat Pawpularity as a categorical variable in the prediction model"
   ]
  },
  {
   "cell_type": "code",
   "execution_count": null,
   "metadata": {},
   "outputs": [],
   "source": [
    "import os\n",
    "import numpy as np\n",
    "import pandas as pd\n",
    "from tensorflow.keras.preprocessing.image import load_img, img_to_array\n",
    "from sklearn.model_selection import train_test_split\n",
    "\n",
    "# Define the image directory\n",
    "image_dir = \"images\"\n",
    "\n",
    "# Initialize lists to store images and rankings\n",
    "images = []\n",
    "rankings = []\n",
    "\n",
    "# Define the desired image size\n",
    "image_size = (64, 64)\n",
    "\n",
    "# Define the category boundaries\n",
    "boundaries = [20, 40, 60, 80]\n",
    "\n",
    "# Iterate over the IDs in the DataFrame\n",
    "for id in df[\"Id\"]:\n",
    "    # Construct the image filename by appending the \".jpg\" extension\n",
    "    filename = id + \".jpg\"\n",
    "\n",
    "    # Construct the path to the image file\n",
    "    image_path = os.path.join(image_dir, filename)\n",
    "\n",
    "    # Load and preprocess the image\n",
    "    image = load_img(image_path, target_size=image_size)\n",
    "    image = img_to_array(image) / 255.0\n",
    "\n",
    "    # Add the preprocessed image to the images list\n",
    "    images.append(image)\n",
    "\n",
    "    # Extract the corresponding pawpularity value from the DataFrame\n",
    "    pawpularity_value = df.loc[df[\"Id\"] == id, \"Pawpularity\"].values[0]\n",
    "\n",
    "    # Categorize the pawpularity value\n",
    "    ranking = np.digitize(pawpularity_value, boundaries)\n",
    "    rankings.append(ranking)\n",
    "\n",
    "# Convert the images and rankings lists to NumPy arrays\n",
    "images = np.array(images)\n",
    "rankings = np.array(rankings)\n",
    "\n",
    "# Perform train-test split\n",
    "x_train, x_test, y_train, y_test = train_test_split(images, rankings, test_size=0.2, random_state=42)"
   ]
  },
  {
   "cell_type": "markdown",
   "metadata": {},
   "source": [
    "## Tuning Hyperparameters"
   ]
  },
  {
   "cell_type": "code",
   "execution_count": null,
   "metadata": {},
   "outputs": [],
   "source": [
    "from tensorflow.keras.models import Sequential\n",
    "from tensorflow.keras.layers import Conv2D, MaxPooling2D, Flatten, Dense\n",
    "from tensorflow.keras.optimizers import Adam\n",
    "\n",
    "# Define hyperparameters\n",
    "learning_rates = [0.001, 0.01, 0.1]\n",
    "num_filters = [16, 32, 64]\n",
    "filter_sizes = [(3, 3), (5, 5), (7, 7)]\n",
    "num_dense_layers = [1, 2, 3]\n",
    "\n",
    "best_accuracy = 0.0\n",
    "best_hyperparams = None\n",
    "\n",
    "# Iterate over different hyperparameter combinations\n",
    "for lr in learning_rates:\n",
    "    for nf in num_filters:\n",
    "        for fs in filter_sizes:\n",
    "            for nd in num_dense_layers:\n",
    "                # Create the CNN model\n",
    "                model = Sequential()\n",
    "\n",
    "                # Add convolutional layers\n",
    "                model.add(Conv2D(nf, fs, activation='relu', input_shape=(64, 64, 3)))\n",
    "                model.add(MaxPooling2D((2, 2)))\n",
    "                model.add(Conv2D(nf, fs, activation='relu'))\n",
    "                model.add(MaxPooling2D((2, 2)))\n",
    "                model.add(Conv2D(nf, fs, activation='relu'))\n",
    "\n",
    "                # Flatten the output\n",
    "                model.add(Flatten())\n",
    "\n",
    "                # Add dense layers\n",
    "                for _ in range(nd):\n",
    "                    model.add(Dense(nf, activation='relu'))\n",
    "                model.add(Dense(5, activation='softmax'))  # Assuming 5 ranking categories\n",
    "\n",
    "                # Compile the model\n",
    "                optimizer = Adam(learning_rate=lr)\n",
    "                model.compile(optimizer=optimizer, loss='sparse_categorical_crossentropy', metrics=['accuracy'])\n",
    "\n",
    "                # Train the model\n",
    "                model.fit(x_train, y_train, batch_size=32, epochs=10, validation_data=(x_test, y_test), verbose=0)\n",
    "\n",
    "                # Evaluate the model\n",
    "                _, accuracy = model.evaluate(x_test, y_test, verbose=0)\n",
    "\n",
    "                # Check if current hyperparameters give a better accuracy\n",
    "                if accuracy > best_accuracy:\n",
    "                    best_accuracy = accuracy\n",
    "                    best_hyperparams = (lr, nf, fs, nd)\n",
    "\n",
    "# Print the best hyperparameters and corresponding accuracy\n",
    "print(\"Best Hyperparameters:\")\n",
    "print(\"Learning Rate:\", best_hyperparams[0])\n",
    "print(\"Number of Filters:\", best_hyperparams[1])\n",
    "print(\"Filter Size:\", best_hyperparams[2])\n",
    "print(\"Number of Dense Layers:\", best_hyperparams[3])\n",
    "print(\"Best Accuracy:\", best_accuracy)"
   ]
  },
  {
   "cell_type": "markdown",
   "metadata": {},
   "source": [
    "## Then use the hyperparameters that give us best accruacy to create the model"
   ]
  },
  {
   "cell_type": "code",
   "execution_count": null,
   "metadata": {},
   "outputs": [],
   "source": [
    "from tensorflow.keras.models import Sequential\n",
    "from tensorflow.keras.layers import Conv2D, MaxPooling2D, Flatten, Dense\n",
    "\n",
    "# Create the CNN model\n",
    "model = Sequential()\n",
    "\n",
    "# Add convolutional layers\n",
    "model.add(Conv2D(32, (3, 3), activation='relu', input_shape=(64, 64, 3)))\n",
    "model.add(MaxPooling2D((2, 2)))\n",
    "model.add(Conv2D(64, (3, 3), activation='relu'))\n",
    "model.add(MaxPooling2D((2, 2)))\n",
    "model.add(Conv2D(64, (3, 3), activation='relu'))\n",
    "\n",
    "# Flatten the output\n",
    "model.add(Flatten())\n",
    "\n",
    "# Add dense layers\n",
    "model.add(Dense(64, activation='relu'))\n",
    "model.add(Dense(5, activation='softmax'))  # Assuming 5 ranking categories\n",
    "\n",
    "# Compile the model\n",
    "model.compile(optimizer='adam', loss='sparse_categorical_crossentropy', metrics=['accuracy'])\n",
    "\n",
    "# Train the model\n",
    "history = model.fit(x_train, y_train, batch_size=32, epochs=10, validation_data=(x_test, y_test))"
   ]
  },
  {
   "cell_type": "code",
   "execution_count": null,
   "metadata": {},
   "outputs": [],
   "source": [
    "# Make predictions on the test set\n",
    "y_pred_prob = model.predict(x_test)\n",
    "\n",
    "# Convert the predicted probabilities to class labels\n",
    "y_pred = np.argmax(y_pred_prob, axis=1)"
   ]
  },
  {
   "cell_type": "code",
   "execution_count": null,
   "metadata": {},
   "outputs": [],
   "source": [
    "from sklearn.metrics import accuracy_score, precision_score, recall_score, f1_score, confusion_matrix, roc_auc_score\n",
    "\n",
    "# Calculate accuracy\n",
    "accuracy = accuracy_score(y_test, y_pred)\n",
    "\n",
    "# Calculate precision, recall, and F1-score\n",
    "precision = precision_score(y_test, y_pred, average='macro')\n",
    "recall = recall_score(y_test, y_pred, average='macro')\n",
    "f1 = f1_score(y_test, y_pred, average='macro')\n",
    "\n",
    "# Calculate confusion matrix\n",
    "confusion_mat = confusion_matrix(y_test, y_pred)\n",
    "\n",
    "# Print the evaluation metrics\n",
    "print(\"Accuracy:\", accuracy)\n",
    "print(\"Precision:\", precision)\n",
    "print(\"Recall:\", recall)\n",
    "print(\"F1-score:\", f1)\n",
    "print(\"Confusion Matrix:\\n\", confusion_mat)\n",
    "# print(\"ROC AUC Score:\", roc_auc)"
   ]
  },
  {
   "cell_type": "markdown",
   "metadata": {},
   "source": [
    "## Choose my final model"
   ]
  },
  {
   "cell_type": "code",
   "execution_count": null,
   "metadata": {},
   "outputs": [],
   "source": []
  }
 ],
 "metadata": {
  "kernelspec": {
   "display_name": "Python 3",
   "language": "python",
   "name": "python3"
  },
  "language_info": {
   "codemirror_mode": {
    "name": "ipython",
    "version": 3
   },
   "file_extension": ".py",
   "mimetype": "text/x-python",
   "name": "python",
   "nbconvert_exporter": "python",
   "pygments_lexer": "ipython3",
   "version": "3.7.6"
  }
 },
 "nbformat": 4,
 "nbformat_minor": 4
}
