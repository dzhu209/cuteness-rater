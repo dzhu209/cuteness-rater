{
 "cells": [
  {
   "cell_type": "code",
   "execution_count": 3,
   "metadata": {},
   "outputs": [
    {
     "data": {
      "text/html": [
       "<div>\n",
       "<style scoped>\n",
       "    .dataframe tbody tr th:only-of-type {\n",
       "        vertical-align: middle;\n",
       "    }\n",
       "\n",
       "    .dataframe tbody tr th {\n",
       "        vertical-align: top;\n",
       "    }\n",
       "\n",
       "    .dataframe thead th {\n",
       "        text-align: right;\n",
       "    }\n",
       "</style>\n",
       "<table border=\"1\" class=\"dataframe\">\n",
       "  <thead>\n",
       "    <tr style=\"text-align: right;\">\n",
       "      <th></th>\n",
       "      <th>Id</th>\n",
       "      <th>Subject Focus</th>\n",
       "      <th>Eyes</th>\n",
       "      <th>Face</th>\n",
       "      <th>Near</th>\n",
       "      <th>Action</th>\n",
       "      <th>Accessory</th>\n",
       "      <th>Group</th>\n",
       "      <th>Collage</th>\n",
       "      <th>Human</th>\n",
       "      <th>Occlusion</th>\n",
       "      <th>Info</th>\n",
       "      <th>Blur</th>\n",
       "      <th>Pawpularity</th>\n",
       "    </tr>\n",
       "  </thead>\n",
       "  <tbody>\n",
       "    <tr>\n",
       "      <th>0</th>\n",
       "      <td>0007de18844b0dbbb5e1f607da0606e0</td>\n",
       "      <td>0</td>\n",
       "      <td>1</td>\n",
       "      <td>1</td>\n",
       "      <td>1</td>\n",
       "      <td>0</td>\n",
       "      <td>0</td>\n",
       "      <td>1</td>\n",
       "      <td>0</td>\n",
       "      <td>0</td>\n",
       "      <td>0</td>\n",
       "      <td>0</td>\n",
       "      <td>0</td>\n",
       "      <td>63</td>\n",
       "    </tr>\n",
       "    <tr>\n",
       "      <th>1</th>\n",
       "      <td>0009c66b9439883ba2750fb825e1d7db</td>\n",
       "      <td>0</td>\n",
       "      <td>1</td>\n",
       "      <td>1</td>\n",
       "      <td>0</td>\n",
       "      <td>0</td>\n",
       "      <td>0</td>\n",
       "      <td>0</td>\n",
       "      <td>0</td>\n",
       "      <td>0</td>\n",
       "      <td>0</td>\n",
       "      <td>0</td>\n",
       "      <td>0</td>\n",
       "      <td>42</td>\n",
       "    </tr>\n",
       "    <tr>\n",
       "      <th>2</th>\n",
       "      <td>0013fd999caf9a3efe1352ca1b0d937e</td>\n",
       "      <td>0</td>\n",
       "      <td>1</td>\n",
       "      <td>1</td>\n",
       "      <td>1</td>\n",
       "      <td>0</td>\n",
       "      <td>0</td>\n",
       "      <td>0</td>\n",
       "      <td>0</td>\n",
       "      <td>1</td>\n",
       "      <td>1</td>\n",
       "      <td>0</td>\n",
       "      <td>0</td>\n",
       "      <td>28</td>\n",
       "    </tr>\n",
       "    <tr>\n",
       "      <th>3</th>\n",
       "      <td>0018df346ac9c1d8413cfcc888ca8246</td>\n",
       "      <td>0</td>\n",
       "      <td>1</td>\n",
       "      <td>1</td>\n",
       "      <td>1</td>\n",
       "      <td>0</td>\n",
       "      <td>0</td>\n",
       "      <td>0</td>\n",
       "      <td>0</td>\n",
       "      <td>0</td>\n",
       "      <td>0</td>\n",
       "      <td>0</td>\n",
       "      <td>0</td>\n",
       "      <td>15</td>\n",
       "    </tr>\n",
       "    <tr>\n",
       "      <th>4</th>\n",
       "      <td>001dc955e10590d3ca4673f034feeef2</td>\n",
       "      <td>0</td>\n",
       "      <td>0</td>\n",
       "      <td>0</td>\n",
       "      <td>1</td>\n",
       "      <td>0</td>\n",
       "      <td>0</td>\n",
       "      <td>1</td>\n",
       "      <td>0</td>\n",
       "      <td>0</td>\n",
       "      <td>0</td>\n",
       "      <td>0</td>\n",
       "      <td>0</td>\n",
       "      <td>72</td>\n",
       "    </tr>\n",
       "    <tr>\n",
       "      <th>...</th>\n",
       "      <td>...</td>\n",
       "      <td>...</td>\n",
       "      <td>...</td>\n",
       "      <td>...</td>\n",
       "      <td>...</td>\n",
       "      <td>...</td>\n",
       "      <td>...</td>\n",
       "      <td>...</td>\n",
       "      <td>...</td>\n",
       "      <td>...</td>\n",
       "      <td>...</td>\n",
       "      <td>...</td>\n",
       "      <td>...</td>\n",
       "      <td>...</td>\n",
       "    </tr>\n",
       "    <tr>\n",
       "      <th>9907</th>\n",
       "      <td>ffbfa0383c34dc513c95560d6e1fdb57</td>\n",
       "      <td>0</td>\n",
       "      <td>0</td>\n",
       "      <td>0</td>\n",
       "      <td>1</td>\n",
       "      <td>0</td>\n",
       "      <td>0</td>\n",
       "      <td>0</td>\n",
       "      <td>0</td>\n",
       "      <td>0</td>\n",
       "      <td>0</td>\n",
       "      <td>0</td>\n",
       "      <td>1</td>\n",
       "      <td>15</td>\n",
       "    </tr>\n",
       "    <tr>\n",
       "      <th>9908</th>\n",
       "      <td>ffcc8532d76436fc79e50eb2e5238e45</td>\n",
       "      <td>0</td>\n",
       "      <td>1</td>\n",
       "      <td>1</td>\n",
       "      <td>1</td>\n",
       "      <td>0</td>\n",
       "      <td>0</td>\n",
       "      <td>0</td>\n",
       "      <td>0</td>\n",
       "      <td>0</td>\n",
       "      <td>0</td>\n",
       "      <td>0</td>\n",
       "      <td>0</td>\n",
       "      <td>70</td>\n",
       "    </tr>\n",
       "    <tr>\n",
       "      <th>9909</th>\n",
       "      <td>ffdf2e8673a1da6fb80342fa3b119a20</td>\n",
       "      <td>0</td>\n",
       "      <td>1</td>\n",
       "      <td>1</td>\n",
       "      <td>1</td>\n",
       "      <td>0</td>\n",
       "      <td>0</td>\n",
       "      <td>0</td>\n",
       "      <td>0</td>\n",
       "      <td>1</td>\n",
       "      <td>1</td>\n",
       "      <td>0</td>\n",
       "      <td>0</td>\n",
       "      <td>20</td>\n",
       "    </tr>\n",
       "    <tr>\n",
       "      <th>9910</th>\n",
       "      <td>fff19e2ce11718548fa1c5d039a5192a</td>\n",
       "      <td>0</td>\n",
       "      <td>1</td>\n",
       "      <td>1</td>\n",
       "      <td>1</td>\n",
       "      <td>0</td>\n",
       "      <td>0</td>\n",
       "      <td>0</td>\n",
       "      <td>0</td>\n",
       "      <td>1</td>\n",
       "      <td>0</td>\n",
       "      <td>0</td>\n",
       "      <td>0</td>\n",
       "      <td>20</td>\n",
       "    </tr>\n",
       "    <tr>\n",
       "      <th>9911</th>\n",
       "      <td>fff8e47c766799c9e12f3cb3d66ad228</td>\n",
       "      <td>0</td>\n",
       "      <td>1</td>\n",
       "      <td>1</td>\n",
       "      <td>1</td>\n",
       "      <td>0</td>\n",
       "      <td>0</td>\n",
       "      <td>0</td>\n",
       "      <td>0</td>\n",
       "      <td>0</td>\n",
       "      <td>0</td>\n",
       "      <td>0</td>\n",
       "      <td>0</td>\n",
       "      <td>30</td>\n",
       "    </tr>\n",
       "  </tbody>\n",
       "</table>\n",
       "<p>9912 rows × 14 columns</p>\n",
       "</div>"
      ],
      "text/plain": [
       "                                    Id  Subject Focus  Eyes  Face  Near  \\\n",
       "0     0007de18844b0dbbb5e1f607da0606e0              0     1     1     1   \n",
       "1     0009c66b9439883ba2750fb825e1d7db              0     1     1     0   \n",
       "2     0013fd999caf9a3efe1352ca1b0d937e              0     1     1     1   \n",
       "3     0018df346ac9c1d8413cfcc888ca8246              0     1     1     1   \n",
       "4     001dc955e10590d3ca4673f034feeef2              0     0     0     1   \n",
       "...                                ...            ...   ...   ...   ...   \n",
       "9907  ffbfa0383c34dc513c95560d6e1fdb57              0     0     0     1   \n",
       "9908  ffcc8532d76436fc79e50eb2e5238e45              0     1     1     1   \n",
       "9909  ffdf2e8673a1da6fb80342fa3b119a20              0     1     1     1   \n",
       "9910  fff19e2ce11718548fa1c5d039a5192a              0     1     1     1   \n",
       "9911  fff8e47c766799c9e12f3cb3d66ad228              0     1     1     1   \n",
       "\n",
       "      Action  Accessory  Group  Collage  Human  Occlusion  Info  Blur  \\\n",
       "0          0          0      1        0      0          0     0     0   \n",
       "1          0          0      0        0      0          0     0     0   \n",
       "2          0          0      0        0      1          1     0     0   \n",
       "3          0          0      0        0      0          0     0     0   \n",
       "4          0          0      1        0      0          0     0     0   \n",
       "...      ...        ...    ...      ...    ...        ...   ...   ...   \n",
       "9907       0          0      0        0      0          0     0     1   \n",
       "9908       0          0      0        0      0          0     0     0   \n",
       "9909       0          0      0        0      1          1     0     0   \n",
       "9910       0          0      0        0      1          0     0     0   \n",
       "9911       0          0      0        0      0          0     0     0   \n",
       "\n",
       "      Pawpularity  \n",
       "0              63  \n",
       "1              42  \n",
       "2              28  \n",
       "3              15  \n",
       "4              72  \n",
       "...           ...  \n",
       "9907           15  \n",
       "9908           70  \n",
       "9909           20  \n",
       "9910           20  \n",
       "9911           30  \n",
       "\n",
       "[9912 rows x 14 columns]"
      ]
     },
     "execution_count": 3,
     "metadata": {},
     "output_type": "execute_result"
    }
   ],
   "source": [
    "import pandas as pd\n",
    "from sklearn.metrics import roc_auc_score\n",
    "import os\n",
    "import numpy as np\n",
    "import pandas as pd\n",
    "from tensorflow.keras.preprocessing.image import load_img, img_to_array\n",
    "from sklearn.model_selection import train_test_split\n",
    "from sklearn.preprocessing import LabelEncoder\n",
    "from tensorflow.keras.models import Sequential\n",
    "from tensorflow.keras.layers import Conv2D, MaxPooling2D, Flatten, Dense\n",
    "from tensorflow.keras.optimizers import Adam\n",
    "from tensorflow.keras.metrics import Precision, Recall\n",
    "from sklearn.metrics import accuracy_score, precision_score, recall_score, f1_score, confusion_matrix\n",
    "df = pd.read_csv(\"images.csv\")\n",
    "df"
   ]
  },
  {
   "cell_type": "markdown",
   "metadata": {},
   "source": [
    "## Subject Focus"
   ]
  },
  {
   "cell_type": "code",
   "execution_count": 4,
   "metadata": {},
   "outputs": [
    {
     "data": {
      "text/plain": [
       "0    9638\n",
       "1     274\n",
       "Name: Subject Focus, dtype: int64"
      ]
     },
     "execution_count": 4,
     "metadata": {},
     "output_type": "execute_result"
    }
   ],
   "source": [
    "# Check the frequency of each category in the \"Subject Focus\" column\n",
    "df[\"Subject Focus\"].value_counts()"
   ]
  },
  {
   "cell_type": "code",
   "execution_count": 5,
   "metadata": {},
   "outputs": [
    {
     "name": "stdout",
     "output_type": "stream",
     "text": [
      "Epoch 1/10\n",
      "248/248 [==============================] - 10s 41ms/step - loss: 0.1509 - precision: 0.0000e+00 - recall: 0.0000e+00 - accuracy: 0.9710 - val_loss: 0.1044 - val_precision: 0.0000e+00 - val_recall: 0.0000e+00 - val_accuracy: 0.9778\n",
      "Epoch 2/10\n",
      "248/248 [==============================] - 10s 40ms/step - loss: 0.1305 - precision: 0.0000e+00 - recall: 0.0000e+00 - accuracy: 0.9710 - val_loss: 0.1083 - val_precision: 0.0000e+00 - val_recall: 0.0000e+00 - val_accuracy: 0.9778\n",
      "Epoch 3/10\n",
      "248/248 [==============================] - 10s 40ms/step - loss: 0.1188 - precision: 0.0000e+00 - recall: 0.0000e+00 - accuracy: 0.9710 - val_loss: 0.1018 - val_precision: 0.0000e+00 - val_recall: 0.0000e+00 - val_accuracy: 0.9778\n",
      "Epoch 4/10\n",
      "248/248 [==============================] - 14s 55ms/step - loss: 0.1146 - precision: 0.0000e+00 - recall: 0.0000e+00 - accuracy: 0.9710 - val_loss: 0.1037 - val_precision: 0.0000e+00 - val_recall: 0.0000e+00 - val_accuracy: 0.9778\n",
      "Epoch 5/10\n",
      "248/248 [==============================] - 13s 51ms/step - loss: 0.1089 - precision: 0.0000e+00 - recall: 0.0000e+00 - accuracy: 0.9710 - val_loss: 0.1282 - val_precision: 0.0000e+00 - val_recall: 0.0000e+00 - val_accuracy: 0.9778\n",
      "Epoch 6/10\n",
      "248/248 [==============================] - 11s 46ms/step - loss: 0.1016 - precision: 0.0000e+00 - recall: 0.0000e+00 - accuracy: 0.9710 - val_loss: 0.1150 - val_precision: 0.0000e+00 - val_recall: 0.0000e+00 - val_accuracy: 0.9778\n",
      "Epoch 7/10\n",
      "248/248 [==============================] - 12s 48ms/step - loss: 0.0905 - precision: 0.0000e+00 - recall: 0.0000e+00 - accuracy: 0.9710 - val_loss: 0.1153 - val_precision: 0.0000e+00 - val_recall: 0.0000e+00 - val_accuracy: 0.9778\n",
      "Epoch 8/10\n",
      "248/248 [==============================] - 11s 46ms/step - loss: 0.0789 - precision: 0.0000e+00 - recall: 0.0000e+00 - accuracy: 0.9710 - val_loss: 0.1265 - val_precision: 0.0000e+00 - val_recall: 0.0000e+00 - val_accuracy: 0.9778\n",
      "Epoch 9/10\n",
      "248/248 [==============================] - 11s 45ms/step - loss: 0.0630 - precision: 0.8000 - recall: 0.0174 - accuracy: 0.9714 - val_loss: 0.1464 - val_precision: 0.0000e+00 - val_recall: 0.0000e+00 - val_accuracy: 0.9778\n",
      "Epoch 10/10\n",
      "248/248 [==============================] - 11s 45ms/step - loss: 0.0492 - precision: 0.8376 - recall: 0.4261 - accuracy: 0.9810 - val_loss: 0.1571 - val_precision: 0.0500 - val_recall: 0.0227 - val_accuracy: 0.9687\n"
     ]
    }
   ],
   "source": [
    "# Load the image data from the CSV file\n",
    "data = pd.read_csv(\"images.csv\")\n",
    "\n",
    "# Define the image directory\n",
    "image_dir = \"images\"\n",
    "\n",
    "# Initialize lists to store images and labels\n",
    "images = []\n",
    "labels = []\n",
    "\n",
    "# Define the desired image size\n",
    "image_size = (64, 64)\n",
    "\n",
    "# Iterate over the rows in the DataFrame\n",
    "for index, row in data.iterrows():\n",
    "    # Construct the image filename by appending the \".jpg\" extension\n",
    "    filename = row[\"Id\"] + \".jpg\"\n",
    "\n",
    "    # Construct the path to the image file\n",
    "    image_path = os.path.join(image_dir, filename)\n",
    "\n",
    "    # Load and preprocess the image\n",
    "    image = load_img(image_path, target_size=image_size)\n",
    "    image = img_to_array(image) / 255.0\n",
    "\n",
    "    # Add the preprocessed image to the images list\n",
    "    images.append(image)\n",
    "\n",
    "    # Extract the label from the \"Subject Focus\" column\n",
    "    label = row[\"Subject Focus\"]\n",
    "    labels.append(label)\n",
    "\n",
    "# Convert the images and labels lists to NumPy arrays\n",
    "images = np.array(images)\n",
    "labels = np.array(labels)\n",
    "\n",
    "# Perform label encoding on the binary labels\n",
    "label_encoder = LabelEncoder()\n",
    "labels = label_encoder.fit_transform(labels)\n",
    "\n",
    "# Split the data into training and testing sets\n",
    "x_train, x_test, y_train, y_test = train_test_split(images, labels, test_size=0.2, random_state=42)\n",
    "\n",
    "# Create the CNN model\n",
    "model1 = Sequential()\n",
    "model1.add(Conv2D(16, (3, 3), activation='relu', input_shape=(64, 64, 3)))\n",
    "model1.add(MaxPooling2D((2, 2)))\n",
    "model1.add(Conv2D(32, (3, 3), activation='relu'))\n",
    "model1.add(MaxPooling2D((2, 2)))\n",
    "model1.add(Conv2D(64, (3, 3), activation='relu'))\n",
    "model1.add(Flatten())\n",
    "model1.add(Dense(64, activation='relu'))\n",
    "model1.add(Dense(1, activation='sigmoid'))\n",
    "\n",
    "# Compile the model with F1-score as the metric\n",
    "model1.compile(optimizer='adam', loss='binary_crossentropy', metrics=[Precision(), Recall(), 'accuracy'])\n",
    "\n",
    "# Train the model\n",
    "model1.fit(x_train, y_train, batch_size=32, epochs=10, validation_data=(x_test, y_test))\n",
    "\n",
    "# Make predictions on the test set\n",
    "y_pred_prob = model1.predict(x_test)\n",
    "y_pred = (y_pred_prob > 0.5).astype(int)"
   ]
  },
  {
   "cell_type": "code",
   "execution_count": 8,
   "metadata": {},
   "outputs": [
    {
     "name": "stdout",
     "output_type": "stream",
     "text": [
      "Accuracy: 0.9773071104387292\n",
      "Precision: 0.0\n",
      "Recall: 0.0\n",
      "F1-score: 0.0\n",
      "Confusion Matrix:\n",
      " [[1938    1]\n",
      " [  44    0]]\n"
     ]
    }
   ],
   "source": [
    "# Evaluate the model\n",
    "accuracy = accuracy_score(y_test, y_pred)\n",
    "precision = precision_score(y_test, y_pred)\n",
    "recall = recall_score(y_test, y_pred)\n",
    "f1 = f1_score(y_test, y_pred)\n",
    "confusion_mat = confusion_matrix(y_test, y_pred)\n",
    "\n",
    "# Print the evaluation metrics\n",
    "print(\"Accuracy:\", accuracy)\n",
    "print(\"Precision:\", precision)\n",
    "print(\"Recall:\", recall)\n",
    "print(\"F1-score:\", f1)\n",
    "print(\"Confusion Matrix:\\n\", confusion_mat)"
   ]
  },
  {
   "cell_type": "code",
   "execution_count": 10,
   "metadata": {},
   "outputs": [
    {
     "name": "stdout",
     "output_type": "stream",
     "text": [
      "ROC AUC: 0.7324886305030709\n"
     ]
    }
   ],
   "source": [
    "roc_auc = roc_auc_score(y_test, y_pred_prob)\n",
    "print(\"ROC AUC:\", roc_auc)"
   ]
  },
  {
   "cell_type": "code",
   "execution_count": 6,
   "metadata": {},
   "outputs": [],
   "source": [
    "# Save model architecture as JSON\n",
    "model1_json = model1.to_json()\n",
    "with open('model_focus.json', 'w') as json_file:\n",
    "    json_file.write(model1_json)\n",
    "\n",
    "# Save model weights\n",
    "model1.save_weights('model_focus_weights.h5')"
   ]
  },
  {
   "cell_type": "markdown",
   "metadata": {},
   "source": [
    "## Eyes"
   ]
  },
  {
   "cell_type": "code",
   "execution_count": 9,
   "metadata": {},
   "outputs": [
    {
     "data": {
      "text/plain": [
       "1    7658\n",
       "0    2254\n",
       "Name: Eyes, dtype: int64"
      ]
     },
     "execution_count": 9,
     "metadata": {},
     "output_type": "execute_result"
    }
   ],
   "source": [
    "df[\"Eyes\"].value_counts()"
   ]
  },
  {
   "cell_type": "code",
   "execution_count": 7,
   "metadata": {},
   "outputs": [
    {
     "name": "stdout",
     "output_type": "stream",
     "text": [
      "Epoch 1/10\n",
      "248/248 [==============================] - 11s 46ms/step - loss: 0.5465 - precision_1: 0.7701 - recall_1: 0.9961 - accuracy: 0.7679 - val_loss: 0.5212 - val_precision_1: 0.7827 - val_recall_1: 1.0000 - val_accuracy: 0.7827\n",
      "Epoch 2/10\n",
      "248/248 [==============================] - 12s 47ms/step - loss: 0.5357 - precision_1: 0.7701 - recall_1: 1.0000 - accuracy: 0.7701 - val_loss: 0.5380 - val_precision_1: 0.7827 - val_recall_1: 1.0000 - val_accuracy: 0.7827\n",
      "Epoch 3/10\n",
      "248/248 [==============================] - 11s 45ms/step - loss: 0.5287 - precision_1: 0.7702 - recall_1: 1.0000 - accuracy: 0.7702 - val_loss: 0.5192 - val_precision_1: 0.7827 - val_recall_1: 1.0000 - val_accuracy: 0.7827\n",
      "Epoch 4/10\n",
      "248/248 [==============================] - 11s 45ms/step - loss: 0.5194 - precision_1: 0.7709 - recall_1: 0.9985 - accuracy: 0.7703 - val_loss: 0.5152 - val_precision_1: 0.7824 - val_recall_1: 0.9987 - val_accuracy: 0.7816\n",
      "Epoch 5/10\n",
      "248/248 [==============================] - 12s 50ms/step - loss: 0.5057 - precision_1: 0.7727 - recall_1: 0.9957 - accuracy: 0.7711 - val_loss: 0.5358 - val_precision_1: 0.7827 - val_recall_1: 0.9936 - val_accuracy: 0.7791\n",
      "Epoch 6/10\n",
      "248/248 [==============================] - 12s 48ms/step - loss: 0.4790 - precision_1: 0.7843 - recall_1: 0.9826 - accuracy: 0.7785 - val_loss: 0.5409 - val_precision_1: 0.7851 - val_recall_1: 0.9839 - val_accuracy: 0.7766\n",
      "Epoch 7/10\n",
      "248/248 [==============================] - 14s 56ms/step - loss: 0.4443 - precision_1: 0.8068 - recall_1: 0.9658 - accuracy: 0.7956 - val_loss: 0.5691 - val_precision_1: 0.7882 - val_recall_1: 0.9446 - val_accuracy: 0.7579\n",
      "Epoch 8/10\n",
      "248/248 [==============================] - 12s 49ms/step - loss: 0.3853 - precision_1: 0.8408 - recall_1: 0.9522 - accuracy: 0.8243 - val_loss: 0.6126 - val_precision_1: 0.7855 - val_recall_1: 0.9343 - val_accuracy: 0.7489\n",
      "Epoch 9/10\n",
      "248/248 [==============================] - 11s 45ms/step - loss: 0.3116 - precision_1: 0.8792 - recall_1: 0.9523 - accuracy: 0.8625 - val_loss: 0.6855 - val_precision_1: 0.7941 - val_recall_1: 0.8325 - val_accuracy: 0.6999\n",
      "Epoch 10/10\n",
      "248/248 [==============================] - 12s 47ms/step - loss: 0.2322 - precision_1: 0.9163 - recall_1: 0.9595 - accuracy: 0.9014 - val_loss: 0.8915 - val_precision_1: 0.7896 - val_recall_1: 0.8679 - val_accuracy: 0.7156\n"
     ]
    }
   ],
   "source": [
    "labels = df[\"Eyes\"]\n",
    "# Split the data into training and testing sets\n",
    "x_train, x_test, y_train, y_test = train_test_split(images, labels, test_size=0.2, random_state=42)\n",
    "\n",
    "# Create the CNN model\n",
    "model2 = Sequential()\n",
    "model2.add(Conv2D(16, (3, 3), activation='relu', input_shape=(64, 64, 3)))\n",
    "model2.add(MaxPooling2D((2, 2)))\n",
    "model2.add(Conv2D(32, (3, 3), activation='relu'))\n",
    "model2.add(MaxPooling2D((2, 2)))\n",
    "model2.add(Conv2D(64, (3, 3), activation='relu'))\n",
    "model2.add(Flatten())\n",
    "model2.add(Dense(64, activation='relu'))\n",
    "model2.add(Dense(1, activation='sigmoid'))\n",
    "\n",
    "# Compile the model\n",
    "model2.compile(optimizer='adam', loss='binary_crossentropy', metrics=[Precision(), Recall(), 'accuracy'])\n",
    "\n",
    "# Train the model\n",
    "model2.fit(x_train, y_train, batch_size=32, epochs=10, validation_data=(x_test, y_test))\n",
    "\n",
    "# Make predictions on the test set\n",
    "y_pred_prob = model2.predict(x_test)\n",
    "y_pred = (y_pred_prob > 0.5).astype(int)"
   ]
  },
  {
   "cell_type": "code",
   "execution_count": 13,
   "metadata": {},
   "outputs": [
    {
     "name": "stdout",
     "output_type": "stream",
     "text": [
      "Accuracy: 0.7307110438729199\n",
      "Precision: 0.7962747380675204\n",
      "Recall: 0.8814432989690721\n",
      "F1-score: 0.836697247706422\n",
      "Confusion Matrix:\n",
      " [[  81  350]\n",
      " [ 184 1368]]\n",
      "ROC AUC: 0.5698238333293468\n"
     ]
    }
   ],
   "source": [
    "# Evaluate the model\n",
    "accuracy = accuracy_score(y_test, y_pred)\n",
    "precision = precision_score(y_test, y_pred)\n",
    "recall = recall_score(y_test, y_pred)\n",
    "f1 = f1_score(y_test, y_pred)\n",
    "confusion_mat = confusion_matrix(y_test, y_pred)\n",
    "\n",
    "# Print the evaluation metrics\n",
    "print(\"Accuracy:\", accuracy)\n",
    "print(\"Precision:\", precision)\n",
    "print(\"Recall:\", recall)\n",
    "print(\"F1-score:\", f1)\n",
    "print(\"Confusion Matrix:\\n\", confusion_mat)\n",
    "\n",
    "roc_auc = roc_auc_score(y_test, y_pred_prob)\n",
    "print(\"ROC AUC:\", roc_auc)"
   ]
  },
  {
   "cell_type": "code",
   "execution_count": 8,
   "metadata": {},
   "outputs": [],
   "source": [
    "# Save model architecture as JSON\n",
    "model2_json = model2.to_json()\n",
    "with open('model_eye.json', 'w') as json_file:\n",
    "    json_file.write(model2_json)\n",
    "\n",
    "# Save model weights\n",
    "model2.save_weights('model_eye_weights.h5')"
   ]
  },
  {
   "cell_type": "markdown",
   "metadata": {},
   "source": [
    "## Face"
   ]
  },
  {
   "cell_type": "code",
   "execution_count": 14,
   "metadata": {},
   "outputs": [
    {
     "data": {
      "text/plain": [
       "1    8960\n",
       "0     952\n",
       "Name: Face, dtype: int64"
      ]
     },
     "execution_count": 14,
     "metadata": {},
     "output_type": "execute_result"
    }
   ],
   "source": [
    "df[\"Face\"].value_counts()"
   ]
  },
  {
   "cell_type": "code",
   "execution_count": 9,
   "metadata": {},
   "outputs": [
    {
     "name": "stdout",
     "output_type": "stream",
     "text": [
      "Epoch 1/10\n",
      "248/248 [==============================] - 13s 53ms/step - loss: 0.3330 - precision_2: 0.9016 - recall_2: 0.9959 - accuracy: 0.8983 - val_loss: 0.3231 - val_precision_2: 0.9123 - val_recall_2: 1.0000 - val_accuracy: 0.9123\n",
      "Epoch 2/10\n",
      "248/248 [==============================] - 12s 49ms/step - loss: 0.3254 - precision_2: 0.9019 - recall_2: 1.0000 - accuracy: 0.9019 - val_loss: 0.2998 - val_precision_2: 0.9123 - val_recall_2: 1.0000 - val_accuracy: 0.9123\n",
      "Epoch 3/10\n",
      "248/248 [==============================] - 12s 48ms/step - loss: 0.3206 - precision_2: 0.9019 - recall_2: 1.0000 - accuracy: 0.9019 - val_loss: 0.2969 - val_precision_2: 0.9123 - val_recall_2: 1.0000 - val_accuracy: 0.9123\n",
      "Epoch 4/10\n",
      "248/248 [==============================] - 12s 50ms/step - loss: 0.3224 - precision_2: 0.9019 - recall_2: 1.0000 - accuracy: 0.9019 - val_loss: 0.2994 - val_precision_2: 0.9123 - val_recall_2: 1.0000 - val_accuracy: 0.9123\n",
      "Epoch 5/10\n",
      "248/248 [==============================] - 12s 49ms/step - loss: 0.3164 - precision_2: 0.9019 - recall_2: 1.0000 - accuracy: 0.9019 - val_loss: 0.3023 - val_precision_2: 0.9123 - val_recall_2: 1.0000 - val_accuracy: 0.9123\n",
      "Epoch 6/10\n",
      "248/248 [==============================] - 12s 49ms/step - loss: 0.3104 - precision_2: 0.9019 - recall_2: 1.0000 - accuracy: 0.9019 - val_loss: 0.3328 - val_precision_2: 0.9123 - val_recall_2: 1.0000 - val_accuracy: 0.9123\n",
      "Epoch 7/10\n",
      "248/248 [==============================] - 13s 51ms/step - loss: 0.3016 - precision_2: 0.9023 - recall_2: 0.9999 - accuracy: 0.9023 - val_loss: 0.3125 - val_precision_2: 0.9123 - val_recall_2: 1.0000 - val_accuracy: 0.9123\n",
      "Epoch 8/10\n",
      "248/248 [==============================] - 13s 52ms/step - loss: 0.2875 - precision_2: 0.9043 - recall_2: 0.9992 - accuracy: 0.9039 - val_loss: 0.3208 - val_precision_2: 0.9125 - val_recall_2: 0.9972 - val_accuracy: 0.9102\n",
      "Epoch 9/10\n",
      "248/248 [==============================] - 12s 50ms/step - loss: 0.2681 - precision_2: 0.9116 - recall_2: 0.9945 - accuracy: 0.9081 - val_loss: 0.3237 - val_precision_2: 0.9119 - val_recall_2: 0.9961 - val_accuracy: 0.9087\n",
      "Epoch 10/10\n",
      "248/248 [==============================] - 14s 54ms/step - loss: 0.2411 - precision_2: 0.9183 - recall_2: 0.9945 - accuracy: 0.9152 - val_loss: 0.3694 - val_precision_2: 0.9128 - val_recall_2: 0.9889 - val_accuracy: 0.9037\n"
     ]
    }
   ],
   "source": [
    "labels = df[\"Face\"]\n",
    "# Split the data into training and testing sets\n",
    "x_train, x_test, y_train, y_test = train_test_split(images, labels, test_size=0.2, random_state=42)\n",
    "\n",
    "# Create the CNN model\n",
    "model3 = Sequential()\n",
    "model3.add(Conv2D(16, (3, 3), activation='relu', input_shape=(64, 64, 3)))\n",
    "model3.add(MaxPooling2D((2, 2)))\n",
    "model3.add(Conv2D(32, (3, 3), activation='relu'))\n",
    "model3.add(MaxPooling2D((2, 2)))\n",
    "model3.add(Conv2D(64, (3, 3), activation='relu'))\n",
    "model3.add(Flatten())\n",
    "model3.add(Dense(64, activation='relu'))\n",
    "model3.add(Dense(1, activation='sigmoid'))\n",
    "\n",
    "# Compile the model\n",
    "model3.compile(optimizer='adam', loss='binary_crossentropy', metrics=[Precision(), Recall(), 'accuracy'])\n",
    "\n",
    "# Train the model\n",
    "model3.fit(x_train, y_train, batch_size=32, epochs=10, validation_data=(x_test, y_test))\n",
    "\n",
    "# Make predictions on the test set\n",
    "y_pred_prob = model3.predict(x_test)\n",
    "y_pred = (y_pred_prob > 0.5).astype(int)"
   ]
  },
  {
   "cell_type": "code",
   "execution_count": 16,
   "metadata": {},
   "outputs": [
    {
     "name": "stdout",
     "output_type": "stream",
     "text": [
      "Accuracy: 0.8739283913262733\n",
      "Precision: 0.9126521969295924\n",
      "Recall: 0.953012714206744\n",
      "F1-score: 0.932395889670092\n",
      "Confusion Matrix:\n",
      " [[   9  165]\n",
      " [  85 1724]]\n",
      "ROC AUC: 0.5531728331522464\n"
     ]
    }
   ],
   "source": [
    "# Evaluate the model\n",
    "accuracy = accuracy_score(y_test, y_pred)\n",
    "precision = precision_score(y_test, y_pred)\n",
    "recall = recall_score(y_test, y_pred)\n",
    "f1 = f1_score(y_test, y_pred)\n",
    "confusion_mat = confusion_matrix(y_test, y_pred)\n",
    "\n",
    "# Print the evaluation metrics\n",
    "print(\"Accuracy:\", accuracy)\n",
    "print(\"Precision:\", precision)\n",
    "print(\"Recall:\", recall)\n",
    "print(\"F1-score:\", f1)\n",
    "print(\"Confusion Matrix:\\n\", confusion_mat)\n",
    "\n",
    "roc_auc = roc_auc_score(y_test, y_pred_prob)\n",
    "print(\"ROC AUC:\", roc_auc)"
   ]
  },
  {
   "cell_type": "code",
   "execution_count": 10,
   "metadata": {},
   "outputs": [],
   "source": [
    "# Save model architecture as JSON\n",
    "model3_json = model3.to_json()\n",
    "with open('model_face.json', 'w') as json_file:\n",
    "    json_file.write(model3_json)\n",
    "\n",
    "# Save model weights\n",
    "model3.save_weights('model_face_weights.h5')"
   ]
  },
  {
   "cell_type": "markdown",
   "metadata": {},
   "source": [
    "## Near"
   ]
  },
  {
   "cell_type": "code",
   "execution_count": 17,
   "metadata": {},
   "outputs": [
    {
     "data": {
      "text/plain": [
       "1    8540\n",
       "0    1372\n",
       "Name: Near, dtype: int64"
      ]
     },
     "execution_count": 17,
     "metadata": {},
     "output_type": "execute_result"
    }
   ],
   "source": [
    "df[\"Near\"].value_counts()"
   ]
  },
  {
   "cell_type": "code",
   "execution_count": 14,
   "metadata": {},
   "outputs": [
    {
     "name": "stdout",
     "output_type": "stream",
     "text": [
      "Epoch 1/10\n",
      "248/248 [==============================] - 10s 42ms/step - loss: 0.4083 - precision_4: 0.8645 - recall_4: 0.9958 - accuracy: 0.8614 - val_loss: 0.4072 - val_precision_4: 0.8492 - val_recall_4: 1.0000 - val_accuracy: 0.8492\n",
      "Epoch 2/10\n",
      "248/248 [==============================] - 10s 41ms/step - loss: 0.3733 - precision_4: 0.8647 - recall_4: 1.0000 - accuracy: 0.8647 - val_loss: 0.4021 - val_precision_4: 0.8492 - val_recall_4: 1.0000 - val_accuracy: 0.8492\n",
      "Epoch 3/10\n",
      "248/248 [==============================] - 10s 41ms/step - loss: 0.3541 - precision_4: 0.8647 - recall_4: 1.0000 - accuracy: 0.8647 - val_loss: 0.3813 - val_precision_4: 0.8492 - val_recall_4: 1.0000 - val_accuracy: 0.8492\n",
      "Epoch 4/10\n",
      "248/248 [==============================] - 10s 41ms/step - loss: 0.3369 - precision_4: 0.8647 - recall_4: 1.0000 - accuracy: 0.8647 - val_loss: 0.3821 - val_precision_4: 0.8492 - val_recall_4: 1.0000 - val_accuracy: 0.8492\n",
      "Epoch 5/10\n",
      "248/248 [==============================] - 10s 40ms/step - loss: 0.3164 - precision_4: 0.8647 - recall_4: 1.0000 - accuracy: 0.8647 - val_loss: 0.3823 - val_precision_4: 0.8492 - val_recall_4: 1.0000 - val_accuracy: 0.8492\n",
      "Epoch 6/10\n",
      "248/248 [==============================] - 10s 40ms/step - loss: 0.3027 - precision_4: 0.8684 - recall_4: 0.9977 - accuracy: 0.8672 - val_loss: 0.3662 - val_precision_4: 0.8646 - val_recall_4: 0.9893 - val_accuracy: 0.8593\n",
      "Epoch 7/10\n",
      "248/248 [==============================] - 10s 41ms/step - loss: 0.2730 - precision_4: 0.9001 - recall_4: 0.9800 - accuracy: 0.8886 - val_loss: 0.3849 - val_precision_4: 0.8675 - val_recall_4: 0.9840 - val_accuracy: 0.8588\n",
      "Epoch 8/10\n",
      "248/248 [==============================] - 10s 41ms/step - loss: 0.2467 - precision_4: 0.9144 - recall_4: 0.9770 - accuracy: 0.9010 - val_loss: 0.4303 - val_precision_4: 0.8632 - val_recall_4: 0.9745 - val_accuracy: 0.8472\n",
      "Epoch 9/10\n",
      "248/248 [==============================] - 12s 50ms/step - loss: 0.2016 - precision_4: 0.9331 - recall_4: 0.9772 - accuracy: 0.9198 - val_loss: 0.4403 - val_precision_4: 0.8822 - val_recall_4: 0.9246 - val_accuracy: 0.8311\n",
      "Epoch 10/10\n",
      "248/248 [==============================] - 11s 43ms/step - loss: 0.1554 - precision_4: 0.9527 - recall_4: 0.9789 - accuracy: 0.9397 - val_loss: 0.6111 - val_precision_4: 0.8637 - val_recall_4: 0.9893 - val_accuracy: 0.8583\n"
     ]
    }
   ],
   "source": [
    "labels = df[\"Near\"]\n",
    "# Split the data into training and testing sets\n",
    "x_train, x_test, y_train, y_test = train_test_split(images, labels, test_size=0.2, random_state=42)\n",
    "\n",
    "# Create the CNN model\n",
    "model4 = Sequential()\n",
    "model4.add(Conv2D(16, (3, 3), activation='relu', input_shape=(64, 64, 3)))\n",
    "model4.add(MaxPooling2D((2, 2)))\n",
    "model4.add(Conv2D(32, (3, 3), activation='relu'))\n",
    "model4.add(MaxPooling2D((2, 2)))\n",
    "model4.add(Conv2D(64, (3, 3), activation='relu'))\n",
    "model4.add(Flatten())\n",
    "model4.add(Dense(64, activation='relu'))\n",
    "model4.add(Dense(1, activation='sigmoid'))\n",
    "\n",
    "# Compile the model\n",
    "model4.compile(optimizer='adam', loss='binary_crossentropy', metrics=[Precision(), Recall(), 'accuracy'])\n",
    "\n",
    "# Train the model\n",
    "model4.fit(x_train, y_train, batch_size=32, epochs=10, validation_data=(x_test, y_test))\n",
    "\n",
    "# Make predictions on the test set\n",
    "y_pred_prob = model4.predict(x_test)\n",
    "y_pred = (y_pred_prob > 0.5).astype(int)"
   ]
  },
  {
   "cell_type": "code",
   "execution_count": 19,
   "metadata": {},
   "outputs": [
    {
     "name": "stdout",
     "output_type": "stream",
     "text": [
      "Accuracy: 0.8406454866364095\n",
      "Precision: 0.8804226918798665\n",
      "Recall: 0.9400237529691211\n",
      "F1-score: 0.9092475588742103\n",
      "Confusion Matrix:\n",
      " [[  84  215]\n",
      " [ 101 1583]]\n",
      "ROC AUC: 0.7257405921559592\n"
     ]
    }
   ],
   "source": [
    "# Evaluate the model\n",
    "accuracy = accuracy_score(y_test, y_pred)\n",
    "precision = precision_score(y_test, y_pred)\n",
    "recall = recall_score(y_test, y_pred)\n",
    "f1 = f1_score(y_test, y_pred)\n",
    "confusion_mat = confusion_matrix(y_test, y_pred)\n",
    "\n",
    "# Print the evaluation metrics\n",
    "print(\"Accuracy:\", accuracy)\n",
    "print(\"Precision:\", precision)\n",
    "print(\"Recall:\", recall)\n",
    "print(\"F1-score:\", f1)\n",
    "print(\"Confusion Matrix:\\n\", confusion_mat)\n",
    "\n",
    "roc_auc = roc_auc_score(y_test, y_pred_prob)\n",
    "print(\"ROC AUC:\", roc_auc)"
   ]
  },
  {
   "cell_type": "code",
   "execution_count": 15,
   "metadata": {},
   "outputs": [],
   "source": [
    "# Save model architecture as JSON\n",
    "model4_json = model4.to_json()\n",
    "with open('model_near.json', 'w') as json_file:\n",
    "    json_file.write(model4_json)\n",
    "\n",
    "# Save model weights\n",
    "model4.save_weights('model_near_weights.h5')"
   ]
  },
  {
   "cell_type": "markdown",
   "metadata": {},
   "source": [
    "## Action"
   ]
  },
  {
   "cell_type": "code",
   "execution_count": 20,
   "metadata": {},
   "outputs": [
    {
     "data": {
      "text/plain": [
       "0    9813\n",
       "1      99\n",
       "Name: Action, dtype: int64"
      ]
     },
     "execution_count": 20,
     "metadata": {},
     "output_type": "execute_result"
    }
   ],
   "source": [
    "df[\"Action\"].value_counts()"
   ]
  },
  {
   "cell_type": "code",
   "execution_count": 16,
   "metadata": {},
   "outputs": [
    {
     "name": "stdout",
     "output_type": "stream",
     "text": [
      "Epoch 1/10\n",
      "248/248 [==============================] - 12s 47ms/step - loss: 0.0725 - precision_5: 0.0370 - recall_5: 0.0128 - accuracy: 0.9870 - val_loss: 0.0601 - val_precision_5: 0.0000e+00 - val_recall_5: 0.0000e+00 - val_accuracy: 0.9894\n",
      "Epoch 2/10\n",
      "248/248 [==============================] - 11s 44ms/step - loss: 0.0575 - precision_5: 0.0000e+00 - recall_5: 0.0000e+00 - accuracy: 0.9902 - val_loss: 0.0587 - val_precision_5: 0.0000e+00 - val_recall_5: 0.0000e+00 - val_accuracy: 0.9894\n",
      "Epoch 3/10\n",
      "248/248 [==============================] - 10s 42ms/step - loss: 0.0580 - precision_5: 0.0000e+00 - recall_5: 0.0000e+00 - accuracy: 0.9902 - val_loss: 0.0583 - val_precision_5: 0.0000e+00 - val_recall_5: 0.0000e+00 - val_accuracy: 0.9894\n",
      "Epoch 4/10\n",
      "248/248 [==============================] - 10s 41ms/step - loss: 0.0556 - precision_5: 0.0000e+00 - recall_5: 0.0000e+00 - accuracy: 0.9902 - val_loss: 0.0612 - val_precision_5: 0.0000e+00 - val_recall_5: 0.0000e+00 - val_accuracy: 0.9894\n",
      "Epoch 5/10\n",
      "248/248 [==============================] - 11s 45ms/step - loss: 0.0545 - precision_5: 0.0000e+00 - recall_5: 0.0000e+00 - accuracy: 0.9902 - val_loss: 0.0607 - val_precision_5: 0.0000e+00 - val_recall_5: 0.0000e+00 - val_accuracy: 0.9894\n",
      "Epoch 6/10\n",
      "248/248 [==============================] - 11s 43ms/step - loss: 0.0526 - precision_5: 0.0000e+00 - recall_5: 0.0000e+00 - accuracy: 0.9902 - val_loss: 0.0708 - val_precision_5: 0.0000e+00 - val_recall_5: 0.0000e+00 - val_accuracy: 0.9894\n",
      "Epoch 7/10\n",
      "248/248 [==============================] - 11s 43ms/step - loss: 0.0491 - precision_5: 0.0000e+00 - recall_5: 0.0000e+00 - accuracy: 0.9902 - val_loss: 0.0760 - val_precision_5: 0.0000e+00 - val_recall_5: 0.0000e+00 - val_accuracy: 0.9894\n",
      "Epoch 8/10\n",
      "248/248 [==============================] - 10s 42ms/step - loss: 0.0458 - precision_5: 0.0000e+00 - recall_5: 0.0000e+00 - accuracy: 0.9902 - val_loss: 0.0715 - val_precision_5: 0.0000e+00 - val_recall_5: 0.0000e+00 - val_accuracy: 0.9894\n",
      "Epoch 9/10\n",
      "248/248 [==============================] - 11s 43ms/step - loss: 0.0433 - precision_5: 0.0000e+00 - recall_5: 0.0000e+00 - accuracy: 0.9902 - val_loss: 0.0755 - val_precision_5: 0.0000e+00 - val_recall_5: 0.0000e+00 - val_accuracy: 0.9894\n",
      "Epoch 10/10\n",
      "248/248 [==============================] - 12s 48ms/step - loss: 0.0371 - precision_5: 0.0000e+00 - recall_5: 0.0000e+00 - accuracy: 0.9902 - val_loss: 0.0919 - val_precision_5: 0.0000e+00 - val_recall_5: 0.0000e+00 - val_accuracy: 0.9894\n"
     ]
    }
   ],
   "source": [
    "labels = df[\"Action\"]\n",
    "# Split the data into training and testing sets\n",
    "x_train, x_test, y_train, y_test = train_test_split(images, labels, test_size=0.2, random_state=42)\n",
    "\n",
    "# Create the CNN model\n",
    "model5 = Sequential()\n",
    "model5.add(Conv2D(16, (3, 3), activation='relu', input_shape=(64, 64, 3)))\n",
    "model5.add(MaxPooling2D((2, 2)))\n",
    "model5.add(Conv2D(32, (3, 3), activation='relu'))\n",
    "model5.add(MaxPooling2D((2, 2)))\n",
    "model5.add(Conv2D(64, (3, 3), activation='relu'))\n",
    "model5.add(Flatten())\n",
    "model5.add(Dense(64, activation='relu'))\n",
    "model5.add(Dense(1, activation='sigmoid'))\n",
    "\n",
    "# Compile the model\n",
    "model5.compile(optimizer='adam', loss='binary_crossentropy', metrics=[Precision(), Recall(), 'accuracy'])\n",
    "\n",
    "# Train the model\n",
    "model5.fit(x_train, y_train, batch_size=32, epochs=10, validation_data=(x_test, y_test))\n",
    "\n",
    "# Make predictions on the test set\n",
    "y_pred_prob = model5.predict(x_test)\n",
    "y_pred = (y_pred_prob > 0.5).astype(int)"
   ]
  },
  {
   "cell_type": "code",
   "execution_count": 22,
   "metadata": {},
   "outputs": [
    {
     "name": "stdout",
     "output_type": "stream",
     "text": [
      "Accuracy: 0.989409984871407\n",
      "Precision: 0.0\n",
      "Recall: 0.0\n",
      "F1-score: 0.0\n",
      "Confusion Matrix:\n",
      " [[1962    0]\n",
      " [  21    0]]\n",
      "ROC AUC: 0.5625212368331634\n"
     ]
    },
    {
     "name": "stderr",
     "output_type": "stream",
     "text": [
      "/opt/anaconda3/lib/python3.7/site-packages/sklearn/metrics/_classification.py:1272: UndefinedMetricWarning: Precision is ill-defined and being set to 0.0 due to no predicted samples. Use `zero_division` parameter to control this behavior.\n",
      "  _warn_prf(average, modifier, msg_start, len(result))\n"
     ]
    }
   ],
   "source": [
    "# Evaluate the model\n",
    "accuracy = accuracy_score(y_test, y_pred)\n",
    "precision = precision_score(y_test, y_pred)\n",
    "recall = recall_score(y_test, y_pred)\n",
    "f1 = f1_score(y_test, y_pred)\n",
    "confusion_mat = confusion_matrix(y_test, y_pred)\n",
    "\n",
    "# Print the evaluation metrics\n",
    "print(\"Accuracy:\", accuracy)\n",
    "print(\"Precision:\", precision)\n",
    "print(\"Recall:\", recall)\n",
    "print(\"F1-score:\", f1)\n",
    "print(\"Confusion Matrix:\\n\", confusion_mat)\n",
    "\n",
    "roc_auc = roc_auc_score(y_test, y_pred_prob)\n",
    "print(\"ROC AUC:\", roc_auc)"
   ]
  },
  {
   "cell_type": "code",
   "execution_count": 17,
   "metadata": {},
   "outputs": [],
   "source": [
    "# Save model architecture as JSON\n",
    "model5_json = model5.to_json()\n",
    "with open('model_action.json', 'w') as json_file:\n",
    "    json_file.write(model5_json)\n",
    "\n",
    "# Save model weights\n",
    "model5.save_weights('model_action_weights.h5')"
   ]
  },
  {
   "cell_type": "markdown",
   "metadata": {},
   "source": [
    "## Accessory"
   ]
  },
  {
   "cell_type": "code",
   "execution_count": 23,
   "metadata": {},
   "outputs": [
    {
     "data": {
      "text/plain": [
       "0    9240\n",
       "1     672\n",
       "Name: Accessory, dtype: int64"
      ]
     },
     "execution_count": 23,
     "metadata": {},
     "output_type": "execute_result"
    }
   ],
   "source": [
    "df[\"Accessory\"].value_counts()"
   ]
  },
  {
   "cell_type": "code",
   "execution_count": 18,
   "metadata": {},
   "outputs": [
    {
     "name": "stdout",
     "output_type": "stream",
     "text": [
      "Epoch 1/10\n",
      "248/248 [==============================] - 14s 55ms/step - loss: 0.2689 - precision_6: 0.0000e+00 - recall_6: 0.0000e+00 - accuracy: 0.9285 - val_loss: 0.2639 - val_precision_6: 0.0000e+00 - val_recall_6: 0.0000e+00 - val_accuracy: 0.9309\n",
      "Epoch 2/10\n",
      "248/248 [==============================] - 13s 51ms/step - loss: 0.2461 - precision_6: 0.0000e+00 - recall_6: 0.0000e+00 - accuracy: 0.9325 - val_loss: 0.2380 - val_precision_6: 0.0000e+00 - val_recall_6: 0.0000e+00 - val_accuracy: 0.9309\n",
      "Epoch 3/10\n",
      "248/248 [==============================] - 11s 46ms/step - loss: 0.2362 - precision_6: 0.0000e+00 - recall_6: 0.0000e+00 - accuracy: 0.9325 - val_loss: 0.2256 - val_precision_6: 0.0000e+00 - val_recall_6: 0.0000e+00 - val_accuracy: 0.9309\n",
      "Epoch 4/10\n",
      "248/248 [==============================] - 12s 49ms/step - loss: 0.2313 - precision_6: 0.0000e+00 - recall_6: 0.0000e+00 - accuracy: 0.9325 - val_loss: 0.2272 - val_precision_6: 0.0000e+00 - val_recall_6: 0.0000e+00 - val_accuracy: 0.9309\n",
      "Epoch 5/10\n",
      "248/248 [==============================] - 12s 50ms/step - loss: 0.2204 - precision_6: 0.0000e+00 - recall_6: 0.0000e+00 - accuracy: 0.9325 - val_loss: 0.2201 - val_precision_6: 0.0000e+00 - val_recall_6: 0.0000e+00 - val_accuracy: 0.9309\n",
      "Epoch 6/10\n",
      "248/248 [==============================] - 13s 54ms/step - loss: 0.2121 - precision_6: 0.0000e+00 - recall_6: 0.0000e+00 - accuracy: 0.9325 - val_loss: 0.2273 - val_precision_6: 1.0000 - val_recall_6: 0.0146 - val_accuracy: 0.9319\n",
      "Epoch 7/10\n",
      "248/248 [==============================] - 11s 46ms/step - loss: 0.1982 - precision_6: 0.7955 - recall_6: 0.0654 - accuracy: 0.9358 - val_loss: 0.2336 - val_precision_6: 0.7222 - val_recall_6: 0.0949 - val_accuracy: 0.9349\n",
      "Epoch 8/10\n",
      "248/248 [==============================] - 12s 47ms/step - loss: 0.1832 - precision_6: 0.7770 - recall_6: 0.2019 - accuracy: 0.9422 - val_loss: 0.2365 - val_precision_6: 0.5676 - val_recall_6: 0.1533 - val_accuracy: 0.9334\n",
      "Epoch 9/10\n",
      "248/248 [==============================] - 13s 54ms/step - loss: 0.1624 - precision_6: 0.8259 - recall_6: 0.3103 - accuracy: 0.9490 - val_loss: 0.2604 - val_precision_6: 0.5667 - val_recall_6: 0.1241 - val_accuracy: 0.9329\n",
      "Epoch 10/10\n",
      "248/248 [==============================] - 11s 46ms/step - loss: 0.1332 - precision_6: 0.8359 - recall_6: 0.4093 - accuracy: 0.9547 - val_loss: 0.3007 - val_precision_6: 0.5192 - val_recall_6: 0.1971 - val_accuracy: 0.9319\n"
     ]
    }
   ],
   "source": [
    "labels = df[\"Accessory\"]\n",
    "# Split the data into training and testing sets\n",
    "x_train, x_test, y_train, y_test = train_test_split(images, labels, test_size=0.2, random_state=42)\n",
    "\n",
    "# Create the CNN model\n",
    "model6 = Sequential()\n",
    "model6.add(Conv2D(16, (3, 3), activation='relu', input_shape=(64, 64, 3)))\n",
    "model6.add(MaxPooling2D((2, 2)))\n",
    "model6.add(Conv2D(32, (3, 3), activation='relu'))\n",
    "model6.add(MaxPooling2D((2, 2)))\n",
    "model6.add(Conv2D(64, (3, 3), activation='relu'))\n",
    "model6.add(Flatten())\n",
    "model6.add(Dense(64, activation='relu'))\n",
    "model6.add(Dense(1, activation='sigmoid'))\n",
    "\n",
    "# Compile the model\n",
    "model6.compile(optimizer='adam', loss='binary_crossentropy', metrics=[Precision(), Recall(), 'accuracy'])\n",
    "\n",
    "# Train the model\n",
    "model6.fit(x_train, y_train, batch_size=32, epochs=10, validation_data=(x_test, y_test))\n",
    "\n",
    "# Make predictions on the test set\n",
    "y_pred_prob = model6.predict(x_test)\n",
    "y_pred = (y_pred_prob > 0.5).astype(int)"
   ]
  },
  {
   "cell_type": "code",
   "execution_count": 25,
   "metadata": {},
   "outputs": [
    {
     "name": "stdout",
     "output_type": "stream",
     "text": [
      "Accuracy: 0.9268784669692385\n",
      "Precision: 0.41304347826086957\n",
      "Recall: 0.1386861313868613\n",
      "F1-score: 0.20765027322404372\n",
      "Confusion Matrix:\n",
      " [[1819   27]\n",
      " [ 118   19]]\n",
      "ROC AUC: 0.6794489565127995\n"
     ]
    }
   ],
   "source": [
    "# Evaluate the model\n",
    "accuracy = accuracy_score(y_test, y_pred)\n",
    "precision = precision_score(y_test, y_pred)\n",
    "recall = recall_score(y_test, y_pred)\n",
    "f1 = f1_score(y_test, y_pred)\n",
    "confusion_mat = confusion_matrix(y_test, y_pred)\n",
    "\n",
    "# Print the evaluation metrics\n",
    "print(\"Accuracy:\", accuracy)\n",
    "print(\"Precision:\", precision)\n",
    "print(\"Recall:\", recall)\n",
    "print(\"F1-score:\", f1)\n",
    "print(\"Confusion Matrix:\\n\", confusion_mat)\n",
    "\n",
    "roc_auc = roc_auc_score(y_test, y_pred_prob)\n",
    "print(\"ROC AUC:\", roc_auc)"
   ]
  },
  {
   "cell_type": "code",
   "execution_count": 19,
   "metadata": {},
   "outputs": [],
   "source": [
    "# Save model architecture as JSON\n",
    "model6_json = model6.to_json()\n",
    "with open('model_accessory.json', 'w') as json_file:\n",
    "    json_file.write(model6_json)\n",
    "\n",
    "# Save model weights\n",
    "model6.save_weights('model_accessory_weights.h5')"
   ]
  },
  {
   "cell_type": "markdown",
   "metadata": {},
   "source": [
    "## Group"
   ]
  },
  {
   "cell_type": "code",
   "execution_count": 26,
   "metadata": {},
   "outputs": [
    {
     "data": {
      "text/plain": [
       "0    8630\n",
       "1    1282\n",
       "Name: Group, dtype: int64"
      ]
     },
     "execution_count": 26,
     "metadata": {},
     "output_type": "execute_result"
    }
   ],
   "source": [
    "df[\"Group\"].value_counts()"
   ]
  },
  {
   "cell_type": "code",
   "execution_count": 20,
   "metadata": {},
   "outputs": [
    {
     "name": "stdout",
     "output_type": "stream",
     "text": [
      "Epoch 1/10\n",
      "248/248 [==============================] - 12s 48ms/step - loss: 0.3959 - precision_7: 0.1562 - recall_7: 0.0049 - accuracy: 0.8692 - val_loss: 0.4004 - val_precision_7: 0.0000e+00 - val_recall_7: 0.0000e+00 - val_accuracy: 0.8654\n",
      "Epoch 2/10\n",
      "248/248 [==============================] - 13s 52ms/step - loss: 0.3783 - precision_7: 0.0000e+00 - recall_7: 0.0000e+00 - accuracy: 0.8720 - val_loss: 0.3966 - val_precision_7: 0.0000e+00 - val_recall_7: 0.0000e+00 - val_accuracy: 0.8654\n",
      "Epoch 3/10\n",
      "248/248 [==============================] - 13s 51ms/step - loss: 0.3667 - precision_7: 0.0000e+00 - recall_7: 0.0000e+00 - accuracy: 0.8720 - val_loss: 0.3803 - val_precision_7: 0.0000e+00 - val_recall_7: 0.0000e+00 - val_accuracy: 0.8654\n",
      "Epoch 4/10\n",
      "248/248 [==============================] - 12s 49ms/step - loss: 0.3579 - precision_7: 0.0000e+00 - recall_7: 0.0000e+00 - accuracy: 0.8720 - val_loss: 0.3701 - val_precision_7: 0.0000e+00 - val_recall_7: 0.0000e+00 - val_accuracy: 0.8654\n",
      "Epoch 5/10\n",
      "248/248 [==============================] - 13s 53ms/step - loss: 0.3416 - precision_7: 0.0000e+00 - recall_7: 0.0000e+00 - accuracy: 0.8720 - val_loss: 0.3785 - val_precision_7: 0.0000e+00 - val_recall_7: 0.0000e+00 - val_accuracy: 0.8654\n",
      "Epoch 6/10\n",
      "248/248 [==============================] - 15s 59ms/step - loss: 0.3210 - precision_7: 0.0000e+00 - recall_7: 0.0000e+00 - accuracy: 0.8720 - val_loss: 0.3828 - val_precision_7: 0.0000e+00 - val_recall_7: 0.0000e+00 - val_accuracy: 0.8654\n",
      "Epoch 7/10\n",
      "248/248 [==============================] - 13s 53ms/step - loss: 0.2991 - precision_7: 0.0000e+00 - recall_7: 0.0000e+00 - accuracy: 0.8720 - val_loss: 0.3950 - val_precision_7: 0.0000e+00 - val_recall_7: 0.0000e+00 - val_accuracy: 0.8654\n",
      "Epoch 8/10\n",
      "248/248 [==============================] - 13s 51ms/step - loss: 0.2688 - precision_7: 0.8190 - recall_7: 0.0847 - accuracy: 0.8804 - val_loss: 0.4169 - val_precision_7: 0.3409 - val_recall_7: 0.0562 - val_accuracy: 0.8583\n",
      "Epoch 9/10\n",
      "248/248 [==============================] - 13s 51ms/step - loss: 0.2406 - precision_7: 0.8558 - recall_7: 0.2749 - accuracy: 0.9012 - val_loss: 0.4638 - val_precision_7: 0.4545 - val_recall_7: 0.0562 - val_accuracy: 0.8638\n",
      "Epoch 10/10\n",
      "248/248 [==============================] - 12s 48ms/step - loss: 0.2014 - precision_7: 0.8697 - recall_7: 0.4207 - accuracy: 0.9178 - val_loss: 0.5135 - val_precision_7: 0.3659 - val_recall_7: 0.1124 - val_accuracy: 0.8543\n"
     ]
    }
   ],
   "source": [
    "labels = df[\"Group\"]\n",
    "# Split the data into training and testing sets\n",
    "x_train, x_test, y_train, y_test = train_test_split(images, labels, test_size=0.2, random_state=42)\n",
    "\n",
    "# Create the CNN model\n",
    "model7 = Sequential()\n",
    "model7.add(Conv2D(16, (3, 3), activation='relu', input_shape=(64, 64, 3)))\n",
    "model7.add(MaxPooling2D((2, 2)))\n",
    "model7.add(Conv2D(32, (3, 3), activation='relu'))\n",
    "model7.add(MaxPooling2D((2, 2)))\n",
    "model7.add(Conv2D(64, (3, 3), activation='relu'))\n",
    "model7.add(Flatten())\n",
    "model7.add(Dense(64, activation='relu'))\n",
    "model7.add(Dense(1, activation='sigmoid'))\n",
    "\n",
    "# Compile the model\n",
    "model7.compile(optimizer='adam', loss='binary_crossentropy', metrics=[Precision(), Recall(), 'accuracy'])\n",
    "\n",
    "# Train the model\n",
    "model7.fit(x_train, y_train, batch_size=32, epochs=10, validation_data=(x_test, y_test))\n",
    "\n",
    "# Make predictions on the test set\n",
    "y_pred_prob = model7.predict(x_test)\n",
    "y_pred = (y_pred_prob > 0.5).astype(int)"
   ]
  },
  {
   "cell_type": "code",
   "execution_count": 28,
   "metadata": {},
   "outputs": [
    {
     "name": "stdout",
     "output_type": "stream",
     "text": [
      "Accuracy: 0.7831568330811901\n",
      "Precision: 0.21403508771929824\n",
      "Recall: 0.22846441947565543\n",
      "F1-score: 0.22101449275362317\n",
      "Confusion Matrix:\n",
      " [[1492  224]\n",
      " [ 206   61]]\n",
      "ROC AUC: 0.6024637035872991\n"
     ]
    }
   ],
   "source": [
    "# Evaluate the model\n",
    "accuracy = accuracy_score(y_test, y_pred)\n",
    "precision = precision_score(y_test, y_pred)\n",
    "recall = recall_score(y_test, y_pred)\n",
    "f1 = f1_score(y_test, y_pred)\n",
    "confusion_mat = confusion_matrix(y_test, y_pred)\n",
    "\n",
    "# Print the evaluation metrics\n",
    "print(\"Accuracy:\", accuracy)\n",
    "print(\"Precision:\", precision)\n",
    "print(\"Recall:\", recall)\n",
    "print(\"F1-score:\", f1)\n",
    "print(\"Confusion Matrix:\\n\", confusion_mat)\n",
    "\n",
    "roc_auc = roc_auc_score(y_test, y_pred_prob)\n",
    "print(\"ROC AUC:\", roc_auc)"
   ]
  },
  {
   "cell_type": "code",
   "execution_count": 21,
   "metadata": {},
   "outputs": [],
   "source": [
    "# Save model architecture as JSON\n",
    "model7_json = model7.to_json()\n",
    "with open('model_group.json', 'w') as json_file:\n",
    "    json_file.write(model7_json)\n",
    "\n",
    "# Save model weights\n",
    "model7.save_weights('model_group_weights.h5')"
   ]
  },
  {
   "cell_type": "markdown",
   "metadata": {},
   "source": [
    "## Collage"
   ]
  },
  {
   "cell_type": "code",
   "execution_count": 29,
   "metadata": {},
   "outputs": [
    {
     "data": {
      "text/plain": [
       "0    9420\n",
       "1     492\n",
       "Name: Collage, dtype: int64"
      ]
     },
     "execution_count": 29,
     "metadata": {},
     "output_type": "execute_result"
    }
   ],
   "source": [
    "df[\"Collage\"].value_counts()"
   ]
  },
  {
   "cell_type": "code",
   "execution_count": 24,
   "metadata": {},
   "outputs": [
    {
     "name": "stdout",
     "output_type": "stream",
     "text": [
      "Epoch 1/10\n",
      "248/248 [==============================] - 11s 43ms/step - loss: 0.1769 - precision_9: 0.0000e+00 - recall_9: 0.0000e+00 - accuracy: 0.9503 - val_loss: 0.1382 - val_precision_9: 0.0000e+00 - val_recall_9: 0.0000e+00 - val_accuracy: 0.9491\n",
      "Epoch 2/10\n",
      "248/248 [==============================] - 10s 39ms/step - loss: 0.1166 - precision_9: 0.8684 - recall_9: 0.0844 - accuracy: 0.9542 - val_loss: 0.1181 - val_precision_9: 0.7692 - val_recall_9: 0.3960 - val_accuracy: 0.9632\n",
      "Epoch 3/10\n",
      "248/248 [==============================] - 10s 42ms/step - loss: 0.0955 - precision_9: 0.8056 - recall_9: 0.5192 - accuracy: 0.9701 - val_loss: 0.1142 - val_precision_9: 0.7903 - val_recall_9: 0.4851 - val_accuracy: 0.9672\n",
      "Epoch 4/10\n",
      "248/248 [==============================] - 10s 41ms/step - loss: 0.0762 - precision_9: 0.8435 - recall_9: 0.6343 - accuracy: 0.9762 - val_loss: 0.1205 - val_precision_9: 0.7079 - val_recall_9: 0.6238 - val_accuracy: 0.9677\n",
      "Epoch 5/10\n",
      "248/248 [==============================] - 10s 41ms/step - loss: 0.0648 - precision_9: 0.8624 - recall_9: 0.7212 - accuracy: 0.9806 - val_loss: 0.1336 - val_precision_9: 0.5536 - val_recall_9: 0.6139 - val_accuracy: 0.9551\n",
      "Epoch 6/10\n",
      "248/248 [==============================] - 11s 43ms/step - loss: 0.0537 - precision_9: 0.8776 - recall_9: 0.7519 - accuracy: 0.9826 - val_loss: 0.1229 - val_precision_9: 0.7463 - val_recall_9: 0.4950 - val_accuracy: 0.9657\n",
      "Epoch 7/10\n",
      "248/248 [==============================] - 17s 67ms/step - loss: 0.0356 - precision_9: 0.9298 - recall_9: 0.8465 - accuracy: 0.9893 - val_loss: 0.1630 - val_precision_9: 0.5431 - val_recall_9: 0.6238 - val_accuracy: 0.9541\n",
      "Epoch 8/10\n",
      "248/248 [==============================] - 14s 55ms/step - loss: 0.0305 - precision_9: 0.9276 - recall_9: 0.8849 - accuracy: 0.9909 - val_loss: 0.1502 - val_precision_9: 0.7606 - val_recall_9: 0.5347 - val_accuracy: 0.9677\n",
      "Epoch 9/10\n",
      "248/248 [==============================] - 11s 46ms/step - loss: 0.0201 - precision_9: 0.9485 - recall_9: 0.9412 - accuracy: 0.9946 - val_loss: 0.1653 - val_precision_9: 0.6867 - val_recall_9: 0.5644 - val_accuracy: 0.9647\n",
      "Epoch 10/10\n",
      "248/248 [==============================] - 11s 43ms/step - loss: 0.0238 - precision_9: 0.9360 - recall_9: 0.8977 - accuracy: 0.9919 - val_loss: 0.1703 - val_precision_9: 0.6629 - val_recall_9: 0.5842 - val_accuracy: 0.9637\n"
     ]
    }
   ],
   "source": [
    "labels = df[\"Collage\"]\n",
    "# Split the data into training and testing sets\n",
    "x_train, x_test, y_train, y_test = train_test_split(images, labels, test_size=0.2, random_state=42)\n",
    "\n",
    "# Create the CNN model\n",
    "model8 = Sequential()\n",
    "model8.add(Conv2D(16, (3, 3), activation='relu', input_shape=(64, 64, 3)))\n",
    "model8.add(MaxPooling2D((2, 2)))\n",
    "model8.add(Conv2D(32, (3, 3), activation='relu'))\n",
    "model8.add(MaxPooling2D((2, 2)))\n",
    "model8.add(Conv2D(64, (3, 3), activation='relu'))\n",
    "model8.add(Flatten())\n",
    "model8.add(Dense(64, activation='relu'))\n",
    "model8.add(Dense(1, activation='sigmoid'))\n",
    "\n",
    "# Compile the model\n",
    "model8.compile(optimizer='adam', loss='binary_crossentropy', metrics=[Precision(), Recall(), 'accuracy'])\n",
    "\n",
    "# Train the model\n",
    "model8.fit(x_train, y_train, batch_size=32, epochs=10, validation_data=(x_test, y_test))\n",
    "\n",
    "# Make predictions on the test set\n",
    "y_pred_prob = model8.predict(x_test)\n",
    "y_pred = (y_pred_prob > 0.5).astype(int)"
   ]
  },
  {
   "cell_type": "code",
   "execution_count": 31,
   "metadata": {},
   "outputs": [
    {
     "name": "stdout",
     "output_type": "stream",
     "text": [
      "Accuracy: 0.9687342410489158\n",
      "Precision: 0.8305084745762712\n",
      "Recall: 0.48514851485148514\n",
      "F1-score: 0.6124999999999999\n",
      "Confusion Matrix:\n",
      " [[1872   10]\n",
      " [  52   49]]\n",
      "ROC AUC: 0.8790101114255953\n"
     ]
    }
   ],
   "source": [
    "# Evaluate the model\n",
    "accuracy = accuracy_score(y_test, y_pred)\n",
    "precision = precision_score(y_test, y_pred)\n",
    "recall = recall_score(y_test, y_pred)\n",
    "f1 = f1_score(y_test, y_pred)\n",
    "confusion_mat = confusion_matrix(y_test, y_pred)\n",
    "\n",
    "# Print the evaluation metrics\n",
    "print(\"Accuracy:\", accuracy)\n",
    "print(\"Precision:\", precision)\n",
    "print(\"Recall:\", recall)\n",
    "print(\"F1-score:\", f1)\n",
    "print(\"Confusion Matrix:\\n\", confusion_mat)\n",
    "\n",
    "roc_auc = roc_auc_score(y_test, y_pred_prob)\n",
    "print(\"ROC AUC:\", roc_auc)"
   ]
  },
  {
   "cell_type": "code",
   "execution_count": 26,
   "metadata": {},
   "outputs": [],
   "source": [
    "# Save model architecture as JSON\n",
    "model8_json = model8.to_json()\n",
    "with open('model_collage.json', 'w') as json_file:\n",
    "    json_file.write(model8_json)\n",
    "\n",
    "# Save model weights\n",
    "model8.save_weights('model_collage_weights.h5')"
   ]
  },
  {
   "cell_type": "markdown",
   "metadata": {},
   "source": [
    "## Human"
   ]
  },
  {
   "cell_type": "code",
   "execution_count": 32,
   "metadata": {},
   "outputs": [
    {
     "data": {
      "text/plain": [
       "0    8264\n",
       "1    1648\n",
       "Name: Human, dtype: int64"
      ]
     },
     "execution_count": 32,
     "metadata": {},
     "output_type": "execute_result"
    }
   ],
   "source": [
    "df[\"Human\"].value_counts()"
   ]
  },
  {
   "cell_type": "code",
   "execution_count": 27,
   "metadata": {},
   "outputs": [
    {
     "name": "stdout",
     "output_type": "stream",
     "text": [
      "Epoch 1/10\n",
      "248/248 [==============================] - 10s 41ms/step - loss: 0.4603 - precision_10: 0.0000e+00 - recall_10: 0.0000e+00 - accuracy: 0.8309 - val_loss: 0.4291 - val_precision_10: 0.0000e+00 - val_recall_10: 0.0000e+00 - val_accuracy: 0.8447\n",
      "Epoch 2/10\n",
      "248/248 [==============================] - 10s 42ms/step - loss: 0.4528 - precision_10: 0.0000e+00 - recall_10: 0.0000e+00 - accuracy: 0.8310 - val_loss: 0.4207 - val_precision_10: 0.0000e+00 - val_recall_10: 0.0000e+00 - val_accuracy: 0.8447\n",
      "Epoch 3/10\n",
      "248/248 [==============================] - 10s 41ms/step - loss: 0.4350 - precision_10: 0.0000e+00 - recall_10: 0.0000e+00 - accuracy: 0.8310 - val_loss: 0.4087 - val_precision_10: 0.0000e+00 - val_recall_10: 0.0000e+00 - val_accuracy: 0.8447\n",
      "Epoch 4/10\n",
      "248/248 [==============================] - 10s 41ms/step - loss: 0.4199 - precision_10: 0.0000e+00 - recall_10: 0.0000e+00 - accuracy: 0.8310 - val_loss: 0.4120 - val_precision_10: 0.0000e+00 - val_recall_10: 0.0000e+00 - val_accuracy: 0.8447\n",
      "Epoch 5/10\n",
      "248/248 [==============================] - 10s 42ms/step - loss: 0.4065 - precision_10: 0.6667 - recall_10: 0.0045 - accuracy: 0.8314 - val_loss: 0.4166 - val_precision_10: 0.0000e+00 - val_recall_10: 0.0000e+00 - val_accuracy: 0.8447\n",
      "Epoch 6/10\n",
      "248/248 [==============================] - 10s 39ms/step - loss: 0.3880 - precision_10: 0.6184 - recall_10: 0.0955 - accuracy: 0.8372 - val_loss: 0.4246 - val_precision_10: 0.4694 - val_recall_10: 0.0747 - val_accuracy: 0.8432\n",
      "Epoch 7/10\n",
      "248/248 [==============================] - 14s 58ms/step - loss: 0.3589 - precision_10: 0.6733 - recall_10: 0.2276 - accuracy: 0.8508 - val_loss: 0.4467 - val_precision_10: 0.3818 - val_recall_10: 0.0682 - val_accuracy: 0.8381\n",
      "Epoch 8/10\n",
      "248/248 [==============================] - 12s 47ms/step - loss: 0.3247 - precision_10: 0.6999 - recall_10: 0.3515 - accuracy: 0.8649 - val_loss: 0.4408 - val_precision_10: 0.4017 - val_recall_10: 0.2987 - val_accuracy: 0.8220\n",
      "Epoch 9/10\n",
      "248/248 [==============================] - 11s 43ms/step - loss: 0.2721 - precision_10: 0.7624 - recall_10: 0.5030 - accuracy: 0.8895 - val_loss: 0.4681 - val_precision_10: 0.4360 - val_recall_10: 0.2435 - val_accuracy: 0.8336\n",
      "Epoch 10/10\n",
      "248/248 [==============================] - 11s 46ms/step - loss: 0.2190 - precision_10: 0.8034 - recall_10: 0.6284 - accuracy: 0.9112 - val_loss: 0.5393 - val_precision_10: 0.3778 - val_recall_10: 0.2760 - val_accuracy: 0.8169\n"
     ]
    }
   ],
   "source": [
    "labels = df[\"Human\"]\n",
    "# Split the data into training and testing sets\n",
    "x_train, x_test, y_train, y_test = train_test_split(images, labels, test_size=0.2, random_state=42)\n",
    "\n",
    "# Create the CNN model\n",
    "model9 = Sequential()\n",
    "model9.add(Conv2D(16, (3, 3), activation='relu', input_shape=(64, 64, 3)))\n",
    "model9.add(MaxPooling2D((2, 2)))\n",
    "model9.add(Conv2D(32, (3, 3), activation='relu'))\n",
    "model9.add(MaxPooling2D((2, 2)))\n",
    "model9.add(Conv2D(64, (3, 3), activation='relu'))\n",
    "model9.add(Flatten())\n",
    "model9.add(Dense(64, activation='relu'))\n",
    "model9.add(Dense(1, activation='sigmoid'))\n",
    "\n",
    "# Compile the model\n",
    "model9.compile(optimizer='adam', loss='binary_crossentropy', metrics=[Precision(), Recall(), 'accuracy'])\n",
    "\n",
    "# Train the model\n",
    "model9.fit(x_train, y_train, batch_size=32, epochs=10, validation_data=(x_test, y_test))\n",
    "\n",
    "# Make predictions on the test set\n",
    "y_pred_prob = model9.predict(x_test)\n",
    "y_pred = (y_pred_prob > 0.5).astype(int)"
   ]
  },
  {
   "cell_type": "code",
   "execution_count": 34,
   "metadata": {},
   "outputs": [
    {
     "name": "stdout",
     "output_type": "stream",
     "text": [
      "Accuracy: 0.8320726172465961\n",
      "Precision: 0.41935483870967744\n",
      "Recall: 0.21103896103896103\n",
      "F1-score: 0.28077753779697623\n",
      "Confusion Matrix:\n",
      " [[1585   90]\n",
      " [ 243   65]]\n",
      "ROC AUC: 0.6626070943981391\n"
     ]
    }
   ],
   "source": [
    "# Evaluate the model\n",
    "accuracy = accuracy_score(y_test, y_pred)\n",
    "precision = precision_score(y_test, y_pred)\n",
    "recall = recall_score(y_test, y_pred)\n",
    "f1 = f1_score(y_test, y_pred)\n",
    "confusion_mat = confusion_matrix(y_test, y_pred)\n",
    "\n",
    "# Print the evaluation metrics\n",
    "print(\"Accuracy:\", accuracy)\n",
    "print(\"Precision:\", precision)\n",
    "print(\"Recall:\", recall)\n",
    "print(\"F1-score:\", f1)\n",
    "print(\"Confusion Matrix:\\n\", confusion_mat)\n",
    "\n",
    "roc_auc = roc_auc_score(y_test, y_pred_prob)\n",
    "print(\"ROC AUC:\", roc_auc)"
   ]
  },
  {
   "cell_type": "code",
   "execution_count": 28,
   "metadata": {},
   "outputs": [],
   "source": [
    "# Save model architecture as JSON\n",
    "model9_json = model9.to_json()\n",
    "with open('model_human.json', 'w') as json_file:\n",
    "    json_file.write(model9_json)\n",
    "\n",
    "# Save model weights\n",
    "model9.save_weights('model_human_weights.h5')"
   ]
  },
  {
   "cell_type": "markdown",
   "metadata": {},
   "source": [
    "## Occlusion"
   ]
  },
  {
   "cell_type": "code",
   "execution_count": 35,
   "metadata": {},
   "outputs": [
    {
     "data": {
      "text/plain": [
       "0    8207\n",
       "1    1705\n",
       "Name: Occlusion, dtype: int64"
      ]
     },
     "execution_count": 35,
     "metadata": {},
     "output_type": "execute_result"
    }
   ],
   "source": [
    "df[\"Occlusion\"].value_counts()"
   ]
  },
  {
   "cell_type": "code",
   "execution_count": 29,
   "metadata": {},
   "outputs": [
    {
     "name": "stdout",
     "output_type": "stream",
     "text": [
      "Epoch 1/10\n",
      "248/248 [==============================] - 10s 41ms/step - loss: 0.4614 - precision_11: 0.0000e+00 - recall_11: 0.0000e+00 - accuracy: 0.8267 - val_loss: 0.4377 - val_precision_11: 0.0000e+00 - val_recall_11: 0.0000e+00 - val_accuracy: 0.8331\n",
      "Epoch 2/10\n",
      "248/248 [==============================] - 10s 39ms/step - loss: 0.4402 - precision_11: 0.0000e+00 - recall_11: 0.0000e+00 - accuracy: 0.8267 - val_loss: 0.4282 - val_precision_11: 0.0000e+00 - val_recall_11: 0.0000e+00 - val_accuracy: 0.8331\n",
      "Epoch 3/10\n",
      "248/248 [==============================] - 10s 40ms/step - loss: 0.4269 - precision_11: 0.0000e+00 - recall_11: 0.0000e+00 - accuracy: 0.8267 - val_loss: 0.4363 - val_precision_11: 0.0000e+00 - val_recall_11: 0.0000e+00 - val_accuracy: 0.8331\n",
      "Epoch 4/10\n",
      "248/248 [==============================] - 10s 41ms/step - loss: 0.4087 - precision_11: 0.0000e+00 - recall_11: 0.0000e+00 - accuracy: 0.8267 - val_loss: 0.4130 - val_precision_11: 0.0000e+00 - val_recall_11: 0.0000e+00 - val_accuracy: 0.8331\n",
      "Epoch 5/10\n",
      "248/248 [==============================] - 12s 48ms/step - loss: 0.3975 - precision_11: 0.0000e+00 - recall_11: 0.0000e+00 - accuracy: 0.8267 - val_loss: 0.4052 - val_precision_11: 0.0000e+00 - val_recall_11: 0.0000e+00 - val_accuracy: 0.8331\n",
      "Epoch 6/10\n",
      "248/248 [==============================] - 11s 43ms/step - loss: 0.3849 - precision_11: 0.5862 - recall_11: 0.0247 - accuracy: 0.8280 - val_loss: 0.4018 - val_precision_11: 0.7368 - val_recall_11: 0.0423 - val_accuracy: 0.8376\n",
      "Epoch 7/10\n",
      "248/248 [==============================] - 11s 45ms/step - loss: 0.3538 - precision_11: 0.7209 - recall_11: 0.2482 - accuracy: 0.8531 - val_loss: 0.4260 - val_precision_11: 0.5974 - val_recall_11: 0.1390 - val_accuracy: 0.8406\n",
      "Epoch 8/10\n",
      "248/248 [==============================] - 12s 48ms/step - loss: 0.3245 - precision_11: 0.7121 - recall_11: 0.3690 - accuracy: 0.8648 - val_loss: 0.4374 - val_precision_11: 0.4775 - val_recall_11: 0.2568 - val_accuracy: 0.8290\n",
      "Epoch 9/10\n",
      "248/248 [==============================] - 11s 45ms/step - loss: 0.2638 - precision_11: 0.7752 - recall_11: 0.5269 - accuracy: 0.8915 - val_loss: 0.4623 - val_precision_11: 0.4372 - val_recall_11: 0.2840 - val_accuracy: 0.8195\n",
      "Epoch 10/10\n",
      "248/248 [==============================] - 14s 58ms/step - loss: 0.2144 - precision_11: 0.8261 - recall_11: 0.6536 - accuracy: 0.9161 - val_loss: 0.5257 - val_precision_11: 0.4244 - val_recall_11: 0.2205 - val_accuracy: 0.8200\n"
     ]
    }
   ],
   "source": [
    "labels = df[\"Occlusion\"]\n",
    "# Split the data into training and testing sets\n",
    "x_train, x_test, y_train, y_test = train_test_split(images, labels, test_size=0.2, random_state=42)\n",
    "\n",
    "# Create the CNN model\n",
    "model10 = Sequential()\n",
    "model10.add(Conv2D(16, (3, 3), activation='relu', input_shape=(64, 64, 3)))\n",
    "model10.add(MaxPooling2D((2, 2)))\n",
    "model10.add(Conv2D(32, (3, 3), activation='relu'))\n",
    "model10.add(MaxPooling2D((2, 2)))\n",
    "model10.add(Conv2D(64, (3, 3), activation='relu'))\n",
    "model10.add(Flatten())\n",
    "model10.add(Dense(64, activation='relu'))\n",
    "model10.add(Dense(1, activation='sigmoid'))\n",
    "\n",
    "# Compile the model\n",
    "model10.compile(optimizer='adam', loss='binary_crossentropy', metrics=[Precision(), Recall(), 'accuracy'])\n",
    "\n",
    "# Train the model\n",
    "model10.fit(x_train, y_train, batch_size=32, epochs=10, validation_data=(x_test, y_test))\n",
    "\n",
    "# Make predictions on the test set\n",
    "y_pred_prob = model10.predict(x_test)\n",
    "y_pred = (y_pred_prob > 0.5).astype(int)"
   ]
  },
  {
   "cell_type": "code",
   "execution_count": 37,
   "metadata": {},
   "outputs": [
    {
     "name": "stdout",
     "output_type": "stream",
     "text": [
      "Accuracy: 0.8199697428139183\n",
      "Precision: 0.4409090909090909\n",
      "Recall: 0.2930513595166163\n",
      "F1-score: 0.35208711433756806\n",
      "Confusion Matrix:\n",
      " [[1529  123]\n",
      " [ 234   97]]\n",
      "ROC AUC: 0.6818595787949058\n"
     ]
    }
   ],
   "source": [
    "# Evaluate the model\n",
    "accuracy = accuracy_score(y_test, y_pred)\n",
    "precision = precision_score(y_test, y_pred)\n",
    "recall = recall_score(y_test, y_pred)\n",
    "f1 = f1_score(y_test, y_pred)\n",
    "confusion_mat = confusion_matrix(y_test, y_pred)\n",
    "\n",
    "# Print the evaluation metrics\n",
    "print(\"Accuracy:\", accuracy)\n",
    "print(\"Precision:\", precision)\n",
    "print(\"Recall:\", recall)\n",
    "print(\"F1-score:\", f1)\n",
    "print(\"Confusion Matrix:\\n\", confusion_mat)\n",
    "\n",
    "roc_auc = roc_auc_score(y_test, y_pred_prob)\n",
    "print(\"ROC AUC:\", roc_auc)"
   ]
  },
  {
   "cell_type": "code",
   "execution_count": 30,
   "metadata": {},
   "outputs": [],
   "source": [
    "# Save model architecture as JSON\n",
    "model10_json = model10.to_json()\n",
    "with open('model_occlusion.json', 'w') as json_file:\n",
    "    json_file.write(model10_json)\n",
    "\n",
    "# Save model weights\n",
    "model10.save_weights('model_occlusion_weights.h5')"
   ]
  },
  {
   "cell_type": "markdown",
   "metadata": {},
   "source": [
    "## Info"
   ]
  },
  {
   "cell_type": "code",
   "execution_count": 38,
   "metadata": {},
   "outputs": [
    {
     "data": {
      "text/plain": [
       "0    9305\n",
       "1     607\n",
       "Name: Info, dtype: int64"
      ]
     },
     "execution_count": 38,
     "metadata": {},
     "output_type": "execute_result"
    }
   ],
   "source": [
    "df[\"Info\"].value_counts()"
   ]
  },
  {
   "cell_type": "code",
   "execution_count": 31,
   "metadata": {},
   "outputs": [
    {
     "name": "stdout",
     "output_type": "stream",
     "text": [
      "Epoch 1/10\n",
      "248/248 [==============================] - 10s 42ms/step - loss: 0.2428 - precision_12: 0.0312 - recall_12: 0.0021 - accuracy: 0.9356 - val_loss: 0.2033 - val_precision_12: 0.0000e+00 - val_recall_12: 0.0000e+00 - val_accuracy: 0.9365\n",
      "Epoch 2/10\n",
      "248/248 [==============================] - 10s 41ms/step - loss: 0.1950 - precision_12: 0.0000e+00 - recall_12: 0.0000e+00 - accuracy: 0.9393 - val_loss: 0.1781 - val_precision_12: 0.0000e+00 - val_recall_12: 0.0000e+00 - val_accuracy: 0.9365\n",
      "Epoch 3/10\n",
      "248/248 [==============================] - 11s 45ms/step - loss: 0.1608 - precision_12: 0.0000e+00 - recall_12: 0.0000e+00 - accuracy: 0.9393 - val_loss: 0.1524 - val_precision_12: 0.0000e+00 - val_recall_12: 0.0000e+00 - val_accuracy: 0.9365\n",
      "Epoch 4/10\n",
      "248/248 [==============================] - 12s 48ms/step - loss: 0.1442 - precision_12: 0.7870 - recall_12: 0.1767 - accuracy: 0.9472 - val_loss: 0.1814 - val_precision_12: 0.5591 - val_recall_12: 0.5635 - val_accuracy: 0.9440\n",
      "Epoch 5/10\n",
      "248/248 [==============================] - 11s 46ms/step - loss: 0.1320 - precision_12: 0.7826 - recall_12: 0.4491 - accuracy: 0.9590 - val_loss: 0.1419 - val_precision_12: 0.7761 - val_recall_12: 0.4127 - val_accuracy: 0.9551\n",
      "Epoch 6/10\n",
      "248/248 [==============================] - 12s 47ms/step - loss: 0.1156 - precision_12: 0.8278 - recall_12: 0.5198 - accuracy: 0.9643 - val_loss: 0.1445 - val_precision_12: 0.6804 - val_recall_12: 0.5238 - val_accuracy: 0.9541\n",
      "Epoch 7/10\n",
      "248/248 [==============================] - 11s 43ms/step - loss: 0.1092 - precision_12: 0.8402 - recall_12: 0.5904 - accuracy: 0.9683 - val_loss: 0.1336 - val_precision_12: 0.6822 - val_recall_12: 0.5794 - val_accuracy: 0.9561\n",
      "Epoch 8/10\n",
      "248/248 [==============================] - 11s 45ms/step - loss: 0.0953 - precision_12: 0.8825 - recall_12: 0.6403 - accuracy: 0.9730 - val_loss: 0.1433 - val_precision_12: 0.7129 - val_recall_12: 0.5714 - val_accuracy: 0.9581\n",
      "Epoch 9/10\n",
      "248/248 [==============================] - 11s 45ms/step - loss: 0.0781 - precision_12: 0.8350 - recall_12: 0.7152 - accuracy: 0.9741 - val_loss: 0.1897 - val_precision_12: 0.8000 - val_recall_12: 0.3492 - val_accuracy: 0.9531\n",
      "Epoch 10/10\n",
      "248/248 [==============================] - 12s 49ms/step - loss: 0.0576 - precision_12: 0.8799 - recall_12: 0.7921 - accuracy: 0.9808 - val_loss: 0.1660 - val_precision_12: 0.7200 - val_recall_12: 0.5714 - val_accuracy: 0.9586\n"
     ]
    }
   ],
   "source": [
    "labels = df[\"Info\"]\n",
    "# Split the data into training and testing sets\n",
    "x_train, x_test, y_train, y_test = train_test_split(images, labels, test_size=0.2, random_state=42)\n",
    "\n",
    "# Create the CNN model\n",
    "model11 = Sequential()\n",
    "model11.add(Conv2D(16, (3, 3), activation='relu', input_shape=(64, 64, 3)))\n",
    "model11.add(MaxPooling2D((2, 2)))\n",
    "model11.add(Conv2D(32, (3, 3), activation='relu'))\n",
    "model11.add(MaxPooling2D((2, 2)))\n",
    "model11.add(Conv2D(64, (3, 3), activation='relu'))\n",
    "model11.add(Flatten())\n",
    "model11.add(Dense(64, activation='relu'))\n",
    "model11.add(Dense(1, activation='sigmoid'))\n",
    "\n",
    "# Compile the model\n",
    "model11.compile(optimizer='adam', loss='binary_crossentropy', metrics=[Precision(), Recall(), 'accuracy'])\n",
    "\n",
    "# Train the model\n",
    "model11.fit(x_train, y_train, batch_size=32, epochs=10, validation_data=(x_test, y_test))\n",
    "\n",
    "# Make predictions on the test set\n",
    "y_pred_prob = model11.predict(x_test)\n",
    "y_pred = (y_pred_prob > 0.5).astype(int)"
   ]
  },
  {
   "cell_type": "code",
   "execution_count": 40,
   "metadata": {},
   "outputs": [
    {
     "name": "stdout",
     "output_type": "stream",
     "text": [
      "Accuracy: 0.9536056480080686\n",
      "Precision: 0.7023809523809523\n",
      "Recall: 0.46825396825396826\n",
      "F1-score: 0.5619047619047619\n",
      "Confusion Matrix:\n",
      " [[1832   25]\n",
      " [  67   59]]\n",
      "ROC AUC: 0.8497363045020558\n"
     ]
    }
   ],
   "source": [
    "# Evaluate the model\n",
    "accuracy = accuracy_score(y_test, y_pred)\n",
    "precision = precision_score(y_test, y_pred)\n",
    "recall = recall_score(y_test, y_pred)\n",
    "f1 = f1_score(y_test, y_pred)\n",
    "confusion_mat = confusion_matrix(y_test, y_pred)\n",
    "\n",
    "# Print the evaluation metrics\n",
    "print(\"Accuracy:\", accuracy)\n",
    "print(\"Precision:\", precision)\n",
    "print(\"Recall:\", recall)\n",
    "print(\"F1-score:\", f1)\n",
    "print(\"Confusion Matrix:\\n\", confusion_mat)\n",
    "\n",
    "roc_auc = roc_auc_score(y_test, y_pred_prob)\n",
    "print(\"ROC AUC:\", roc_auc)"
   ]
  },
  {
   "cell_type": "code",
   "execution_count": 32,
   "metadata": {},
   "outputs": [],
   "source": [
    "# Save model architecture as JSON\n",
    "model11_json = model11.to_json()\n",
    "with open('model_info.json', 'w') as json_file:\n",
    "    json_file.write(model11_json)\n",
    "\n",
    "# Save model weights\n",
    "model11.save_weights('model_info_weights.h5')"
   ]
  },
  {
   "cell_type": "markdown",
   "metadata": {},
   "source": [
    "## Blur"
   ]
  },
  {
   "cell_type": "code",
   "execution_count": 41,
   "metadata": {},
   "outputs": [
    {
     "data": {
      "text/plain": [
       "0    9214\n",
       "1     698\n",
       "Name: Blur, dtype: int64"
      ]
     },
     "execution_count": 41,
     "metadata": {},
     "output_type": "execute_result"
    }
   ],
   "source": [
    "df[\"Blur\"].value_counts()"
   ]
  },
  {
   "cell_type": "code",
   "execution_count": 12,
   "metadata": {},
   "outputs": [
    {
     "name": "stdout",
     "output_type": "stream",
     "text": [
      "Epoch 1/10\n",
      "248/248 [==============================] - 12s 47ms/step - loss: 0.2627 - precision_3: 0.0000e+00 - recall_3: 0.0000e+00 - accuracy: 0.9265 - val_loss: 0.2211 - val_precision_3: 0.0000e+00 - val_recall_3: 0.0000e+00 - val_accuracy: 0.9410\n",
      "Epoch 2/10\n",
      "248/248 [==============================] - 18s 72ms/step - loss: 0.2534 - precision_3: 0.0000e+00 - recall_3: 0.0000e+00 - accuracy: 0.9267 - val_loss: 0.2163 - val_precision_3: 0.0000e+00 - val_recall_3: 0.0000e+00 - val_accuracy: 0.9410\n",
      "Epoch 3/10\n",
      "248/248 [==============================] - 12s 49ms/step - loss: 0.2488 - precision_3: 0.0000e+00 - recall_3: 0.0000e+00 - accuracy: 0.9267 - val_loss: 0.2164 - val_precision_3: 0.0000e+00 - val_recall_3: 0.0000e+00 - val_accuracy: 0.9410\n",
      "Epoch 4/10\n",
      "248/248 [==============================] - 13s 52ms/step - loss: 0.2456 - precision_3: 0.0000e+00 - recall_3: 0.0000e+00 - accuracy: 0.9267 - val_loss: 0.2298 - val_precision_3: 0.0000e+00 - val_recall_3: 0.0000e+00 - val_accuracy: 0.9410\n",
      "Epoch 5/10\n",
      "248/248 [==============================] - 17s 69ms/step - loss: 0.2393 - precision_3: 0.0000e+00 - recall_3: 0.0000e+00 - accuracy: 0.9267 - val_loss: 0.2177 - val_precision_3: 0.0000e+00 - val_recall_3: 0.0000e+00 - val_accuracy: 0.9410\n",
      "Epoch 6/10\n",
      "248/248 [==============================] - 14s 57ms/step - loss: 0.2310 - precision_3: 0.0000e+00 - recall_3: 0.0000e+00 - accuracy: 0.9267 - val_loss: 0.2355 - val_precision_3: 0.0000e+00 - val_recall_3: 0.0000e+00 - val_accuracy: 0.9410\n",
      "Epoch 7/10\n",
      "248/248 [==============================] - 12s 46ms/step - loss: 0.2119 - precision_3: 1.0000 - recall_3: 0.0017 - accuracy: 0.9269 - val_loss: 0.2311 - val_precision_3: 0.0000e+00 - val_recall_3: 0.0000e+00 - val_accuracy: 0.9410\n",
      "Epoch 8/10\n",
      "248/248 [==============================] - 13s 51ms/step - loss: 0.1888 - precision_3: 0.7500 - recall_3: 0.0052 - accuracy: 0.9270 - val_loss: 0.2535 - val_precision_3: 0.0000e+00 - val_recall_3: 0.0000e+00 - val_accuracy: 0.9410\n",
      "Epoch 9/10\n",
      "248/248 [==============================] - 13s 51ms/step - loss: 0.1616 - precision_3: 1.0000 - recall_3: 0.0103 - accuracy: 0.9275 - val_loss: 0.3085 - val_precision_3: 0.0000e+00 - val_recall_3: 0.0000e+00 - val_accuracy: 0.9410\n",
      "Epoch 10/10\n",
      "248/248 [==============================] - 12s 50ms/step - loss: 0.1254 - precision_3: 0.8744 - recall_3: 0.3236 - accuracy: 0.9470 - val_loss: 0.3536 - val_precision_3: 0.0500 - val_recall_3: 0.0171 - val_accuracy: 0.9228\n"
     ]
    }
   ],
   "source": [
    "labels = df[\"Blur\"]\n",
    "# Split the data into training and testing sets\n",
    "x_train, x_test, y_train, y_test = train_test_split(images, labels, test_size=0.2, random_state=42)\n",
    "\n",
    "# Create the CNN model\n",
    "model12 = Sequential()\n",
    "model12.add(Conv2D(16, (3, 3), activation='relu', input_shape=(64, 64, 3)))\n",
    "model12.add(MaxPooling2D((2, 2)))\n",
    "model12.add(Conv2D(32, (3, 3), activation='relu'))\n",
    "model12.add(MaxPooling2D((2, 2)))\n",
    "model12.add(Conv2D(64, (3, 3), activation='relu'))\n",
    "model12.add(Flatten())\n",
    "model12.add(Dense(64, activation='relu'))\n",
    "model12.add(Dense(1, activation='sigmoid'))\n",
    "\n",
    "# Compile the model\n",
    "model12.compile(optimizer='adam', loss='binary_crossentropy', metrics=[Precision(), Recall(), 'accuracy'])\n",
    "\n",
    "# Train the model\n",
    "model12.fit(x_train, y_train, batch_size=32, epochs=10, validation_data=(x_test, y_test))\n",
    "\n",
    "# Make predictions on the test set\n",
    "y_pred_prob = model12.predict(x_test)\n",
    "y_pred = (y_pred_prob > 0.5).astype(int)"
   ]
  },
  {
   "cell_type": "code",
   "execution_count": 43,
   "metadata": {},
   "outputs": [
    {
     "name": "stdout",
     "output_type": "stream",
     "text": [
      "Accuracy: 0.9409984871406959\n",
      "Precision: 0.0\n",
      "Recall: 0.0\n",
      "F1-score: 0.0\n",
      "Confusion Matrix:\n",
      " [[1866    0]\n",
      " [ 117    0]]\n",
      "ROC AUC: 0.6574005368217587\n"
     ]
    },
    {
     "name": "stderr",
     "output_type": "stream",
     "text": [
      "/opt/anaconda3/lib/python3.7/site-packages/sklearn/metrics/_classification.py:1272: UndefinedMetricWarning: Precision is ill-defined and being set to 0.0 due to no predicted samples. Use `zero_division` parameter to control this behavior.\n",
      "  _warn_prf(average, modifier, msg_start, len(result))\n"
     ]
    }
   ],
   "source": [
    "# Evaluate the model\n",
    "accuracy = accuracy_score(y_test, y_pred)\n",
    "precision = precision_score(y_test, y_pred)\n",
    "recall = recall_score(y_test, y_pred)\n",
    "f1 = f1_score(y_test, y_pred)\n",
    "confusion_mat = confusion_matrix(y_test, y_pred)\n",
    "\n",
    "# Print the evaluation metrics\n",
    "print(\"Accuracy:\", accuracy)\n",
    "print(\"Precision:\", precision)\n",
    "print(\"Recall:\", recall)\n",
    "print(\"F1-score:\", f1)\n",
    "print(\"Confusion Matrix:\\n\", confusion_mat)\n",
    "\n",
    "roc_auc = roc_auc_score(y_test, y_pred_prob)\n",
    "print(\"ROC AUC:\", roc_auc)"
   ]
  },
  {
   "cell_type": "code",
   "execution_count": 13,
   "metadata": {},
   "outputs": [],
   "source": [
    "# Save model architecture as JSON\n",
    "model12_json = model12.to_json()\n",
    "with open('model_blur.json', 'w') as json_file:\n",
    "    json_file.write(model12_json)\n",
    "\n",
    "# Save model weights\n",
    "model12.save_weights('model_blur_weights.h5')"
   ]
  }
 ],
 "metadata": {
  "kernelspec": {
   "display_name": "Python 3",
   "language": "python",
   "name": "python3"
  },
  "language_info": {
   "codemirror_mode": {
    "name": "ipython",
    "version": 3
   },
   "file_extension": ".py",
   "mimetype": "text/x-python",
   "name": "python",
   "nbconvert_exporter": "python",
   "pygments_lexer": "ipython3",
   "version": "3.7.6"
  }
 },
 "nbformat": 4,
 "nbformat_minor": 4
}
